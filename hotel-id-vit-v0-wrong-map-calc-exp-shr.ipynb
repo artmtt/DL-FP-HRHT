{
 "cells": [
  {
   "cell_type": "code",
   "execution_count": 1,
   "id": "fa038acf",
   "metadata": {
    "_cell_guid": "b1076dfc-b9ad-4769-8c92-a6c4dae69d19",
    "_uuid": "8f2839f25d086af736a60e9eeb907d3b93b6e0e5",
    "execution": {
     "iopub.execute_input": "2024-04-16T12:11:10.442153Z",
     "iopub.status.busy": "2024-04-16T12:11:10.441274Z",
     "iopub.status.idle": "2024-04-16T12:11:10.451836Z",
     "shell.execute_reply": "2024-04-16T12:11:10.451067Z"
    },
    "papermill": {
     "duration": 0.023093,
     "end_time": "2024-04-16T12:11:10.453779",
     "exception": false,
     "start_time": "2024-04-16T12:11:10.430686",
     "status": "completed"
    },
    "tags": []
   },
   "outputs": [],
   "source": [
    "import os\n",
    "# for dirname, _, filenames in os.walk('/kaggle/input'):\n",
    "#     for filename in filenames:\n",
    "#         print(os.path.join(dirname, filename))\n",
    "\n",
    "# You can write up to 20GB to the current directory (/kaggle/working/) that gets preserved as output when you create a version using \"Save & Run All\" \n",
    "# You can also write temporary files to /kaggle/temp/, but they won't be saved outside of the current session"
   ]
  },
  {
   "cell_type": "code",
   "execution_count": 2,
   "id": "cf31f7c0",
   "metadata": {
    "execution": {
     "iopub.execute_input": "2024-04-16T12:11:10.472042Z",
     "iopub.status.busy": "2024-04-16T12:11:10.471741Z",
     "iopub.status.idle": "2024-04-16T12:11:23.684905Z",
     "shell.execute_reply": "2024-04-16T12:11:23.683935Z"
    },
    "papermill": {
     "duration": 13.224796,
     "end_time": "2024-04-16T12:11:23.687264",
     "exception": false,
     "start_time": "2024-04-16T12:11:10.462468",
     "status": "completed"
    },
    "tags": []
   },
   "outputs": [
    {
     "name": "stdout",
     "output_type": "stream",
     "text": [
      "Requirement already satisfied: transformers in /opt/conda/lib/python3.10/site-packages (4.39.3)\r\n",
      "Requirement already satisfied: wandb in /opt/conda/lib/python3.10/site-packages (0.16.5)\r\n",
      "Requirement already satisfied: filelock in /opt/conda/lib/python3.10/site-packages (from transformers) (3.13.1)\r\n",
      "Requirement already satisfied: huggingface-hub<1.0,>=0.19.3 in /opt/conda/lib/python3.10/site-packages (from transformers) (0.22.2)\r\n",
      "Requirement already satisfied: numpy>=1.17 in /opt/conda/lib/python3.10/site-packages (from transformers) (1.26.4)\r\n",
      "Requirement already satisfied: packaging>=20.0 in /opt/conda/lib/python3.10/site-packages (from transformers) (21.3)\r\n",
      "Requirement already satisfied: pyyaml>=5.1 in /opt/conda/lib/python3.10/site-packages (from transformers) (6.0.1)\r\n",
      "Requirement already satisfied: regex!=2019.12.17 in /opt/conda/lib/python3.10/site-packages (from transformers) (2023.12.25)\r\n",
      "Requirement already satisfied: requests in /opt/conda/lib/python3.10/site-packages (from transformers) (2.31.0)\r\n",
      "Requirement already satisfied: tokenizers<0.19,>=0.14 in /opt/conda/lib/python3.10/site-packages (from transformers) (0.15.2)\r\n",
      "Requirement already satisfied: safetensors>=0.4.1 in /opt/conda/lib/python3.10/site-packages (from transformers) (0.4.2)\r\n",
      "Requirement already satisfied: tqdm>=4.27 in /opt/conda/lib/python3.10/site-packages (from transformers) (4.66.1)\r\n",
      "Requirement already satisfied: Click!=8.0.0,>=7.1 in /opt/conda/lib/python3.10/site-packages (from wandb) (8.1.7)\r\n",
      "Requirement already satisfied: GitPython!=3.1.29,>=1.0.0 in /opt/conda/lib/python3.10/site-packages (from wandb) (3.1.41)\r\n",
      "Requirement already satisfied: psutil>=5.0.0 in /opt/conda/lib/python3.10/site-packages (from wandb) (5.9.3)\r\n",
      "Requirement already satisfied: sentry-sdk>=1.0.0 in /opt/conda/lib/python3.10/site-packages (from wandb) (1.44.1)\r\n",
      "Requirement already satisfied: docker-pycreds>=0.4.0 in /opt/conda/lib/python3.10/site-packages (from wandb) (0.4.0)\r\n",
      "Requirement already satisfied: setproctitle in /opt/conda/lib/python3.10/site-packages (from wandb) (1.3.3)\r\n",
      "Requirement already satisfied: setuptools in /opt/conda/lib/python3.10/site-packages (from wandb) (69.0.3)\r\n",
      "Requirement already satisfied: appdirs>=1.4.3 in /opt/conda/lib/python3.10/site-packages (from wandb) (1.4.4)\r\n",
      "Requirement already satisfied: protobuf!=4.21.0,<5,>=3.19.0 in /opt/conda/lib/python3.10/site-packages (from wandb) (3.20.3)\r\n",
      "Requirement already satisfied: six>=1.4.0 in /opt/conda/lib/python3.10/site-packages (from docker-pycreds>=0.4.0->wandb) (1.16.0)\r\n",
      "Requirement already satisfied: gitdb<5,>=4.0.1 in /opt/conda/lib/python3.10/site-packages (from GitPython!=3.1.29,>=1.0.0->wandb) (4.0.11)\r\n",
      "Requirement already satisfied: fsspec>=2023.5.0 in /opt/conda/lib/python3.10/site-packages (from huggingface-hub<1.0,>=0.19.3->transformers) (2024.2.0)\r\n",
      "Requirement already satisfied: typing-extensions>=3.7.4.3 in /opt/conda/lib/python3.10/site-packages (from huggingface-hub<1.0,>=0.19.3->transformers) (4.9.0)\r\n",
      "Requirement already satisfied: pyparsing!=3.0.5,>=2.0.2 in /opt/conda/lib/python3.10/site-packages (from packaging>=20.0->transformers) (3.1.1)\r\n",
      "Requirement already satisfied: charset-normalizer<4,>=2 in /opt/conda/lib/python3.10/site-packages (from requests->transformers) (3.3.2)\r\n",
      "Requirement already satisfied: idna<4,>=2.5 in /opt/conda/lib/python3.10/site-packages (from requests->transformers) (3.6)\r\n",
      "Requirement already satisfied: urllib3<3,>=1.21.1 in /opt/conda/lib/python3.10/site-packages (from requests->transformers) (1.26.18)\r\n",
      "Requirement already satisfied: certifi>=2017.4.17 in /opt/conda/lib/python3.10/site-packages (from requests->transformers) (2024.2.2)\r\n",
      "Requirement already satisfied: smmap<6,>=3.0.1 in /opt/conda/lib/python3.10/site-packages (from gitdb<5,>=4.0.1->GitPython!=3.1.29,>=1.0.0->wandb) (5.0.1)\r\n"
     ]
    }
   ],
   "source": [
    "!pip install transformers wandb"
   ]
  },
  {
   "cell_type": "code",
   "execution_count": 3,
   "id": "ddb1bfb5",
   "metadata": {
    "execution": {
     "iopub.execute_input": "2024-04-16T12:11:23.707775Z",
     "iopub.status.busy": "2024-04-16T12:11:23.707480Z",
     "iopub.status.idle": "2024-04-16T12:11:42.434940Z",
     "shell.execute_reply": "2024-04-16T12:11:42.433925Z"
    },
    "papermill": {
     "duration": 18.740315,
     "end_time": "2024-04-16T12:11:42.437316",
     "exception": false,
     "start_time": "2024-04-16T12:11:23.697001",
     "status": "completed"
    },
    "tags": []
   },
   "outputs": [
    {
     "name": "stderr",
     "output_type": "stream",
     "text": [
      "2024-04-16 12:11:32.141002: E external/local_xla/xla/stream_executor/cuda/cuda_dnn.cc:9261] Unable to register cuDNN factory: Attempting to register factory for plugin cuDNN when one has already been registered\n",
      "2024-04-16 12:11:32.141131: E external/local_xla/xla/stream_executor/cuda/cuda_fft.cc:607] Unable to register cuFFT factory: Attempting to register factory for plugin cuFFT when one has already been registered\n",
      "2024-04-16 12:11:32.249438: E external/local_xla/xla/stream_executor/cuda/cuda_blas.cc:1515] Unable to register cuBLAS factory: Attempting to register factory for plugin cuBLAS when one has already been registered\n"
     ]
    }
   ],
   "source": [
    "import numpy as np\n",
    "from PIL import Image\n",
    "import random\n",
    "\n",
    "import wandb\n",
    "\n",
    "import torch\n",
    "from torchinfo import summary\n",
    "import torchvision\n",
    "from torchvision import datasets, transforms\n",
    "from torch.utils.data import Dataset, DataLoader, random_split\n",
    "\n",
    "from transformers import ViTImageProcessor, ViTForImageClassification, TrainingArguments, Trainer"
   ]
  },
  {
   "cell_type": "markdown",
   "id": "fae5bb89",
   "metadata": {
    "papermill": {
     "duration": 0.009055,
     "end_time": "2024-04-16T12:11:42.455914",
     "exception": false,
     "start_time": "2024-04-16T12:11:42.446859",
     "status": "completed"
    },
    "tags": []
   },
   "source": [
    "## Weights & Biases"
   ]
  },
  {
   "cell_type": "code",
   "execution_count": 5,
   "id": "70d51b42",
   "metadata": {
    "execution": {
     "iopub.execute_input": "2024-04-16T12:11:43.646213Z",
     "iopub.status.busy": "2024-04-16T12:11:43.645871Z",
     "iopub.status.idle": "2024-04-16T12:11:43.650446Z",
     "shell.execute_reply": "2024-04-16T12:11:43.649566Z"
    },
    "papermill": {
     "duration": 0.016963,
     "end_time": "2024-04-16T12:11:43.652281",
     "exception": false,
     "start_time": "2024-04-16T12:11:43.635318",
     "status": "completed"
    },
    "tags": []
   },
   "outputs": [],
   "source": [
    "os.environ['WANDB_PROJECT'] = 'hotel-id-vit-v1'\n",
    "os.environ['WANDB_LOG_MODEL'] = 'checkpoint'"
   ]
  },
  {
   "cell_type": "code",
   "execution_count": 6,
   "id": "505a64bd",
   "metadata": {
    "execution": {
     "iopub.execute_input": "2024-04-16T12:11:43.677766Z",
     "iopub.status.busy": "2024-04-16T12:11:43.677460Z",
     "iopub.status.idle": "2024-04-16T12:11:43.738936Z",
     "shell.execute_reply": "2024-04-16T12:11:43.738113Z"
    },
    "papermill": {
     "duration": 0.07535,
     "end_time": "2024-04-16T12:11:43.740833",
     "exception": false,
     "start_time": "2024-04-16T12:11:43.665483",
     "status": "completed"
    },
    "tags": []
   },
   "outputs": [
    {
     "data": {
      "text/plain": [
       "True"
      ]
     },
     "execution_count": 6,
     "metadata": {},
     "output_type": "execute_result"
    }
   ],
   "source": [
    "torch.cuda.is_available()"
   ]
  },
  {
   "cell_type": "code",
   "execution_count": 7,
   "id": "0f1bb96a",
   "metadata": {
    "execution": {
     "iopub.execute_input": "2024-04-16T12:11:43.761722Z",
     "iopub.status.busy": "2024-04-16T12:11:43.761453Z",
     "iopub.status.idle": "2024-04-16T12:11:43.765683Z",
     "shell.execute_reply": "2024-04-16T12:11:43.764783Z"
    },
    "papermill": {
     "duration": 0.017034,
     "end_time": "2024-04-16T12:11:43.767660",
     "exception": false,
     "start_time": "2024-04-16T12:11:43.750626",
     "status": "completed"
    },
    "tags": []
   },
   "outputs": [],
   "source": [
    "DATA_PATH = '/kaggle/input/hotel-id-to-combat-human-trafficking-2022-fgvc9/'\n",
    "IMG_PATH = os.path.join(DATA_PATH, 'train_images')"
   ]
  },
  {
   "cell_type": "code",
   "execution_count": 8,
   "id": "fe441ec3",
   "metadata": {
    "execution": {
     "iopub.execute_input": "2024-04-16T12:11:43.788239Z",
     "iopub.status.busy": "2024-04-16T12:11:43.787966Z",
     "iopub.status.idle": "2024-04-16T12:11:44.242232Z",
     "shell.execute_reply": "2024-04-16T12:11:44.240926Z"
    },
    "papermill": {
     "duration": 0.467279,
     "end_time": "2024-04-16T12:11:44.244417",
     "exception": false,
     "start_time": "2024-04-16T12:11:43.777138",
     "status": "completed"
    },
    "tags": []
   },
   "outputs": [
    {
     "name": "stdout",
     "output_type": "stream",
     "text": [
      "Different IDs: 3116\n"
     ]
    }
   ],
   "source": [
    "total_classes = len(os.listdir(IMG_PATH))\n",
    "\n",
    "print(f'Different IDs: {total_classes}')"
   ]
  },
  {
   "cell_type": "code",
   "execution_count": 9,
   "id": "f9479abf",
   "metadata": {
    "execution": {
     "iopub.execute_input": "2024-04-16T12:11:44.265587Z",
     "iopub.status.busy": "2024-04-16T12:11:44.265263Z",
     "iopub.status.idle": "2024-04-16T12:11:44.270180Z",
     "shell.execute_reply": "2024-04-16T12:11:44.269262Z"
    },
    "papermill": {
     "duration": 0.017641,
     "end_time": "2024-04-16T12:11:44.272013",
     "exception": false,
     "start_time": "2024-04-16T12:11:44.254372",
     "status": "completed"
    },
    "tags": []
   },
   "outputs": [],
   "source": [
    "def set_seed(seed):\n",
    "    torch.manual_seed(seed)\n",
    "    if torch.cuda.is_available():\n",
    "        torch.cuda.manual_seed_all(seed)\n",
    "    np.random.seed(seed)\n",
    "    random.seed(seed)"
   ]
  },
  {
   "cell_type": "code",
   "execution_count": 10,
   "id": "bd5c3687",
   "metadata": {
    "execution": {
     "iopub.execute_input": "2024-04-16T12:11:44.292589Z",
     "iopub.status.busy": "2024-04-16T12:11:44.292300Z",
     "iopub.status.idle": "2024-04-16T12:11:44.298821Z",
     "shell.execute_reply": "2024-04-16T12:11:44.298043Z"
    },
    "papermill": {
     "duration": 0.018777,
     "end_time": "2024-04-16T12:11:44.300743",
     "exception": false,
     "start_time": "2024-04-16T12:11:44.281966",
     "status": "completed"
    },
    "tags": []
   },
   "outputs": [],
   "source": [
    "set_seed(42)"
   ]
  },
  {
   "cell_type": "code",
   "execution_count": 11,
   "id": "9482937e",
   "metadata": {
    "execution": {
     "iopub.execute_input": "2024-04-16T12:11:44.322116Z",
     "iopub.status.busy": "2024-04-16T12:11:44.321375Z",
     "iopub.status.idle": "2024-04-16T12:11:44.577846Z",
     "shell.execute_reply": "2024-04-16T12:11:44.576789Z"
    },
    "papermill": {
     "duration": 0.271553,
     "end_time": "2024-04-16T12:11:44.582294",
     "exception": false,
     "start_time": "2024-04-16T12:11:44.310741",
     "status": "completed"
    },
    "tags": []
   },
   "outputs": [
    {
     "data": {
      "application/vnd.jupyter.widget-view+json": {
       "model_id": "ad1ebf2fd41a4d56abc80f1aee63df7d",
       "version_major": 2,
       "version_minor": 0
      },
      "text/plain": [
       "preprocessor_config.json:   0%|          | 0.00/160 [00:00<?, ?B/s]"
      ]
     },
     "metadata": {},
     "output_type": "display_data"
    },
    {
     "data": {
      "text/plain": [
       "ViTImageProcessor {\n",
       "  \"_valid_processor_keys\": [\n",
       "    \"images\",\n",
       "    \"do_resize\",\n",
       "    \"size\",\n",
       "    \"resample\",\n",
       "    \"do_rescale\",\n",
       "    \"rescale_factor\",\n",
       "    \"do_normalize\",\n",
       "    \"image_mean\",\n",
       "    \"image_std\",\n",
       "    \"return_tensors\",\n",
       "    \"data_format\",\n",
       "    \"input_data_format\"\n",
       "  ],\n",
       "  \"do_normalize\": true,\n",
       "  \"do_rescale\": true,\n",
       "  \"do_resize\": true,\n",
       "  \"image_mean\": [\n",
       "    0.5,\n",
       "    0.5,\n",
       "    0.5\n",
       "  ],\n",
       "  \"image_processor_type\": \"ViTImageProcessor\",\n",
       "  \"image_std\": [\n",
       "    0.5,\n",
       "    0.5,\n",
       "    0.5\n",
       "  ],\n",
       "  \"resample\": 2,\n",
       "  \"rescale_factor\": 0.00392156862745098,\n",
       "  \"size\": {\n",
       "    \"height\": 224,\n",
       "    \"width\": 224\n",
       "  }\n",
       "}"
      ]
     },
     "execution_count": 11,
     "metadata": {},
     "output_type": "execute_result"
    }
   ],
   "source": [
    "model_name_or_path = 'google/vit-base-patch16-224-in21k'\n",
    "\n",
    "processor = ViTImageProcessor.from_pretrained(model_name_or_path)\n",
    "processor"
   ]
  },
  {
   "cell_type": "code",
   "execution_count": 12,
   "id": "fcc97b1b",
   "metadata": {
    "execution": {
     "iopub.execute_input": "2024-04-16T12:11:44.603608Z",
     "iopub.status.busy": "2024-04-16T12:11:44.603307Z",
     "iopub.status.idle": "2024-04-16T12:11:44.611296Z",
     "shell.execute_reply": "2024-04-16T12:11:44.610322Z"
    },
    "papermill": {
     "duration": 0.020897,
     "end_time": "2024-04-16T12:11:44.613224",
     "exception": false,
     "start_time": "2024-04-16T12:11:44.592327",
     "status": "completed"
    },
    "tags": []
   },
   "outputs": [],
   "source": [
    "class CustomImageFolderDataset(Dataset):\n",
    "    def __init__(self, root, processor, transform=None):\n",
    "        self.dataset = datasets.ImageFolder(root=root)\n",
    "        self.processor = processor\n",
    "        self.transform = transform\n",
    "        self.id2label = {idx: label for idx, label in enumerate(self.dataset.classes)}\n",
    "        self.label2id = {label: idx for idx, label in enumerate(self.dataset.classes)}\n",
    "        \n",
    "    def __len__(self):\n",
    "        return len(self.dataset)\n",
    "        \n",
    "    def __getitem__(self, idx):\n",
    "        image, label = self.dataset[idx]\n",
    "        if self.transform is not None:\n",
    "            image = self.transform(image)\n",
    "        processed = self.processor(image, return_tensors='pt')\n",
    "        return {\n",
    "            'pixel_values': processed['pixel_values'].squeeze(0),  # Remove batch dimension\n",
    "            'labels': torch.tensor(label, dtype=torch.long)\n",
    "        }"
   ]
  },
  {
   "cell_type": "code",
   "execution_count": 13,
   "id": "91dd7a92",
   "metadata": {
    "execution": {
     "iopub.execute_input": "2024-04-16T12:11:44.634531Z",
     "iopub.status.busy": "2024-04-16T12:11:44.633839Z",
     "iopub.status.idle": "2024-04-16T12:11:44.641859Z",
     "shell.execute_reply": "2024-04-16T12:11:44.641017Z"
    },
    "papermill": {
     "duration": 0.020683,
     "end_time": "2024-04-16T12:11:44.643857",
     "exception": false,
     "start_time": "2024-04-16T12:11:44.623174",
     "status": "completed"
    },
    "tags": []
   },
   "outputs": [],
   "source": [
    "class RandomOcclusion:\n",
    "    def __init__(self, p=0.5, min_size_ratio=0.05, max_size_ratio=0.50):\n",
    "        self.p = p\n",
    "        self.min_size_ratio = min_size_ratio\n",
    "        self.max_size_ratio = max_size_ratio\n",
    "        \n",
    "    def __call__(self, image):\n",
    "        if random.random() > self.p:\n",
    "            return image\n",
    "        \n",
    "        width, height = image.size\n",
    "        curr_min_width = int(width * self.min_size_ratio)\n",
    "        curr_max_width = int(width * self.max_size_ratio)\n",
    "        \n",
    "        curr_min_height = int(height * self.min_size_ratio)\n",
    "        curr_max_height = int(height * self.max_size_ratio)\n",
    "\n",
    "        occlusion_width = random.randint(curr_min_width, curr_max_width)\n",
    "        occlusion_height = random.randint(curr_min_height, curr_max_height)\n",
    "\n",
    "        # Position\n",
    "        x = random.randint(0, width - occlusion_width)\n",
    "        y = random.randint(0, height - occlusion_height)\n",
    "\n",
    "        mask = Image.new('RGB', (occlusion_width, occlusion_height), (0, 0, 0)) # Occlussion color\n",
    "        image.paste(mask, (x, y))\n",
    "        return image"
   ]
  },
  {
   "cell_type": "code",
   "execution_count": 14,
   "id": "6a1302d3",
   "metadata": {
    "execution": {
     "iopub.execute_input": "2024-04-16T12:11:44.665559Z",
     "iopub.status.busy": "2024-04-16T12:11:44.665271Z",
     "iopub.status.idle": "2024-04-16T12:11:44.670845Z",
     "shell.execute_reply": "2024-04-16T12:11:44.670117Z"
    },
    "papermill": {
     "duration": 0.01884,
     "end_time": "2024-04-16T12:11:44.672682",
     "exception": false,
     "start_time": "2024-04-16T12:11:44.653842",
     "status": "completed"
    },
    "tags": []
   },
   "outputs": [],
   "source": [
    "transform = transforms.Compose([\n",
    "    transforms.Resize((processor.size[\"height\"], processor.size[\"width\"])),\n",
    "    transforms.RandomResizedCrop(224),\n",
    "    transforms.RandomHorizontalFlip(),\n",
    "    # RandomOcclusion(p=0.5, min_size_ratio=0.05, max_size_ratio=0.50),\n",
    "    transforms.RandomRotation(degrees=(-30, 30)),\n",
    "    transforms.ColorJitter(brightness=0.2, contrast=0.2, saturation=0.2, hue=0.1),\n",
    "    transforms.ToTensor(),\n",
    "    # transforms.Normalize(mean=processor.image_mean, std=processor.image_std)\n",
    "])"
   ]
  },
  {
   "cell_type": "code",
   "execution_count": 15,
   "id": "b5cccbb7",
   "metadata": {
    "execution": {
     "iopub.execute_input": "2024-04-16T12:11:44.694328Z",
     "iopub.status.busy": "2024-04-16T12:11:44.693634Z",
     "iopub.status.idle": "2024-04-16T12:12:30.741732Z",
     "shell.execute_reply": "2024-04-16T12:12:30.740719Z"
    },
    "papermill": {
     "duration": 46.061585,
     "end_time": "2024-04-16T12:12:30.744248",
     "exception": false,
     "start_time": "2024-04-16T12:11:44.682663",
     "status": "completed"
    },
    "tags": []
   },
   "outputs": [],
   "source": [
    "h_dataset = CustomImageFolderDataset(root=IMG_PATH, processor=processor)"
   ]
  },
  {
   "cell_type": "code",
   "execution_count": 16,
   "id": "ebc8af6a",
   "metadata": {
    "execution": {
     "iopub.execute_input": "2024-04-16T12:12:30.766370Z",
     "iopub.status.busy": "2024-04-16T12:12:30.765526Z",
     "iopub.status.idle": "2024-04-16T12:12:30.769617Z",
     "shell.execute_reply": "2024-04-16T12:12:30.768918Z"
    },
    "papermill": {
     "duration": 0.016985,
     "end_time": "2024-04-16T12:12:30.771519",
     "exception": false,
     "start_time": "2024-04-16T12:12:30.754534",
     "status": "completed"
    },
    "tags": []
   },
   "outputs": [],
   "source": [
    "train_ratio = 0.7\n",
    "val_ratio = 0.10\n",
    "test_ratio = 0.20"
   ]
  },
  {
   "cell_type": "code",
   "execution_count": 17,
   "id": "4e4517db",
   "metadata": {
    "execution": {
     "iopub.execute_input": "2024-04-16T12:12:30.792915Z",
     "iopub.status.busy": "2024-04-16T12:12:30.792150Z",
     "iopub.status.idle": "2024-04-16T12:12:30.796536Z",
     "shell.execute_reply": "2024-04-16T12:12:30.795835Z"
    },
    "papermill": {
     "duration": 0.016802,
     "end_time": "2024-04-16T12:12:30.798316",
     "exception": false,
     "start_time": "2024-04-16T12:12:30.781514",
     "status": "completed"
    },
    "tags": []
   },
   "outputs": [],
   "source": [
    "total_size = len(h_dataset)\n",
    "train_size = int(train_ratio * total_size)\n",
    "val_size = int(val_ratio * total_size)\n",
    "test_size = total_size - train_size - val_size"
   ]
  },
  {
   "cell_type": "code",
   "execution_count": 18,
   "id": "a2215433",
   "metadata": {
    "execution": {
     "iopub.execute_input": "2024-04-16T12:12:30.819382Z",
     "iopub.status.busy": "2024-04-16T12:12:30.818916Z",
     "iopub.status.idle": "2024-04-16T12:12:30.843198Z",
     "shell.execute_reply": "2024-04-16T12:12:30.842272Z"
    },
    "papermill": {
     "duration": 0.037024,
     "end_time": "2024-04-16T12:12:30.845168",
     "exception": false,
     "start_time": "2024-04-16T12:12:30.808144",
     "status": "completed"
    },
    "tags": []
   },
   "outputs": [],
   "source": [
    "train_ds, val_ds, test_ds = random_split(h_dataset, [train_size, val_size, test_size])"
   ]
  },
  {
   "cell_type": "code",
   "execution_count": 19,
   "id": "5a771fd2",
   "metadata": {
    "execution": {
     "iopub.execute_input": "2024-04-16T12:12:30.866550Z",
     "iopub.status.busy": "2024-04-16T12:12:30.866261Z",
     "iopub.status.idle": "2024-04-16T12:12:30.870244Z",
     "shell.execute_reply": "2024-04-16T12:12:30.869415Z"
    },
    "papermill": {
     "duration": 0.016701,
     "end_time": "2024-04-16T12:12:30.872033",
     "exception": false,
     "start_time": "2024-04-16T12:12:30.855332",
     "status": "completed"
    },
    "tags": []
   },
   "outputs": [],
   "source": [
    "train_ds.transform = transform\n",
    "val_ds.transform = None\n",
    "test_ds.transform = None"
   ]
  },
  {
   "cell_type": "code",
   "execution_count": 20,
   "id": "906dd9c0",
   "metadata": {
    "execution": {
     "iopub.execute_input": "2024-04-16T12:12:30.893159Z",
     "iopub.status.busy": "2024-04-16T12:12:30.892860Z",
     "iopub.status.idle": "2024-04-16T12:12:30.897570Z",
     "shell.execute_reply": "2024-04-16T12:12:30.896703Z"
    },
    "papermill": {
     "duration": 0.017895,
     "end_time": "2024-04-16T12:12:30.899655",
     "exception": false,
     "start_time": "2024-04-16T12:12:30.881760",
     "status": "completed"
    },
    "tags": []
   },
   "outputs": [
    {
     "name": "stdout",
     "output_type": "stream",
     "text": [
      "Train size: 31291 | 31291\n",
      "Val size: 4470 | 4470\n",
      "Test size: 8941 | 8941\n"
     ]
    }
   ],
   "source": [
    "print(f'Train size: {len(train_ds)} | {train_size}')\n",
    "print(f'Val size: {len(val_ds)} | {val_size}')\n",
    "print(f'Test size: {len(test_ds)} | {test_size}')"
   ]
  },
  {
   "cell_type": "markdown",
   "id": "bf2c8fde",
   "metadata": {
    "papermill": {
     "duration": 0.009648,
     "end_time": "2024-04-16T12:12:30.919145",
     "exception": false,
     "start_time": "2024-04-16T12:12:30.909497",
     "status": "completed"
    },
    "tags": []
   },
   "source": [
    "### Create and train model"
   ]
  },
  {
   "cell_type": "code",
   "execution_count": 21,
   "id": "b37595b7",
   "metadata": {
    "execution": {
     "iopub.execute_input": "2024-04-16T12:12:30.940430Z",
     "iopub.status.busy": "2024-04-16T12:12:30.939779Z",
     "iopub.status.idle": "2024-04-16T12:12:30.944790Z",
     "shell.execute_reply": "2024-04-16T12:12:30.943728Z"
    },
    "papermill": {
     "duration": 0.017881,
     "end_time": "2024-04-16T12:12:30.946958",
     "exception": false,
     "start_time": "2024-04-16T12:12:30.929077",
     "status": "completed"
    },
    "tags": []
   },
   "outputs": [],
   "source": [
    "def collate_fn(batch):\n",
    "    return {\n",
    "        'pixel_values': torch.stack([x['pixel_values'] for x in batch]),\n",
    "        'labels': torch.tensor([x['labels'] for x in batch])\n",
    "    }"
   ]
  },
  {
   "cell_type": "code",
   "execution_count": 22,
   "id": "39b6dba0",
   "metadata": {
    "execution": {
     "iopub.execute_input": "2024-04-16T12:12:30.967759Z",
     "iopub.status.busy": "2024-04-16T12:12:30.967502Z",
     "iopub.status.idle": "2024-04-16T12:12:30.977122Z",
     "shell.execute_reply": "2024-04-16T12:12:30.976301Z"
    },
    "papermill": {
     "duration": 0.022385,
     "end_time": "2024-04-16T12:12:30.979119",
     "exception": false,
     "start_time": "2024-04-16T12:12:30.956734",
     "status": "completed"
    },
    "tags": []
   },
   "outputs": [],
   "source": [
    "def compute_acc(prob_preds, labels, k):\n",
    "    y = np.repeat([labels], repeats=k, axis=0).T\n",
    "    # Sort and get top k preds\n",
    "    preds = np.argsort(-np.array(prob_preds), axis=1)[:, :k]\n",
    "    # Check if any of top k predictions are correct and calculate mean accuracy\n",
    "    topk_acc = (preds == y).any(axis=1).mean()\n",
    "    return topk_acc\n",
    "\n",
    "def compute_map(prob_preds, labels, k):\n",
    "    # Sort and get top k preds\n",
    "    preds = np.argsort(-np.array(prob_preds), axis=1)[:, :k]\n",
    "    # Mat where each row contains the correct label repeated k times\n",
    "    # labels = np.array(labels)\n",
    "    # y = np.repeat(labels[:, np.newaxis], k, axis=1)\n",
    "    y = np.repeat([labels], repeats=k, axis=0).T\n",
    "    # Get rank (1-indexed later)\n",
    "    ranks_0b = np.where(preds == y)[1]\n",
    "    # Get precision only where the correct label appears in the preds top-k\n",
    "    map_at_k = 0.0\n",
    "    if len(ranks_0b) > 0:\n",
    "        # Calculate the precision for each instance where the correct label is found\n",
    "        precisions = 1 / (ranks_0b + 1)\n",
    "        map_at_k = np.mean(precisions)\n",
    "    return map_at_k\n",
    "\n",
    "\n",
    "def compute_metrics(p):\n",
    "    prob_preds = p.predictions\n",
    "    return {\n",
    "        'topk_acc_at_5': compute_acc(prob_preds, p.label_ids, k=5),\n",
    "        'topk_acc_at_10': compute_acc(prob_preds, p.label_ids, k=10),\n",
    "        'topk_acc_at_100': compute_acc(prob_preds, p.label_ids, k=100),\n",
    "        'map_at_5': compute_map(prob_preds, p.label_ids, k=5),\n",
    "        #'map_at_50': compute_map(prob_preds, p.label_ids, k=50),\n",
    "        #'map_at_100': compute_map(prob_preds, p.label_ids, k=100),\n",
    "    }"
   ]
  },
  {
   "cell_type": "code",
   "execution_count": 23,
   "id": "9340bb4e",
   "metadata": {
    "execution": {
     "iopub.execute_input": "2024-04-16T12:12:31.000351Z",
     "iopub.status.busy": "2024-04-16T12:12:30.999776Z",
     "iopub.status.idle": "2024-04-16T12:12:33.186343Z",
     "shell.execute_reply": "2024-04-16T12:12:33.185561Z"
    },
    "papermill": {
     "duration": 2.199404,
     "end_time": "2024-04-16T12:12:33.188569",
     "exception": false,
     "start_time": "2024-04-16T12:12:30.989165",
     "status": "completed"
    },
    "tags": []
   },
   "outputs": [
    {
     "data": {
      "application/vnd.jupyter.widget-view+json": {
       "model_id": "b0a1ad89136442adb00385988d55daf7",
       "version_major": 2,
       "version_minor": 0
      },
      "text/plain": [
       "config.json:   0%|          | 0.00/502 [00:00<?, ?B/s]"
      ]
     },
     "metadata": {},
     "output_type": "display_data"
    },
    {
     "data": {
      "application/vnd.jupyter.widget-view+json": {
       "model_id": "ffc297efcde1483f8047fe0a113d3dc7",
       "version_major": 2,
       "version_minor": 0
      },
      "text/plain": [
       "model.safetensors:   0%|          | 0.00/346M [00:00<?, ?B/s]"
      ]
     },
     "metadata": {},
     "output_type": "display_data"
    },
    {
     "name": "stderr",
     "output_type": "stream",
     "text": [
      "Some weights of ViTForImageClassification were not initialized from the model checkpoint at google/vit-base-patch16-224-in21k and are newly initialized: ['classifier.bias', 'classifier.weight']\n",
      "You should probably TRAIN this model on a down-stream task to be able to use it for predictions and inference.\n"
     ]
    }
   ],
   "source": [
    "model = ViTForImageClassification.from_pretrained(\n",
    "    model_name_or_path,\n",
    "    num_labels=total_classes,\n",
    "    id2label=h_dataset.id2label,\n",
    "    label2id=h_dataset.label2id\n",
    ")"
   ]
  },
  {
   "cell_type": "code",
   "execution_count": 24,
   "id": "3b0ec923",
   "metadata": {
    "execution": {
     "iopub.execute_input": "2024-04-16T12:12:33.211222Z",
     "iopub.status.busy": "2024-04-16T12:12:33.210905Z",
     "iopub.status.idle": "2024-04-16T12:12:34.054768Z",
     "shell.execute_reply": "2024-04-16T12:12:34.053804Z"
    },
    "papermill": {
     "duration": 0.857349,
     "end_time": "2024-04-16T12:12:34.056708",
     "exception": false,
     "start_time": "2024-04-16T12:12:33.199359",
     "status": "completed"
    },
    "tags": []
   },
   "outputs": [
    {
     "data": {
      "text/plain": [
       "===========================================================================================================================================================\n",
       "Layer (type:depth-idx)                                  Input Shape               Output Shape              Param #                   Trainable\n",
       "===========================================================================================================================================================\n",
       "ViTForImageClassification                               [1, 3, 224, 224]          [1, 3116]                 --                        True\n",
       "├─ViTModel: 1-1                                         [1, 3, 224, 224]          [1, 197, 768]             --                        True\n",
       "│    └─ViTEmbeddings: 2-1                               [1, 3, 224, 224]          [1, 197, 768]             152,064                   True\n",
       "│    │    └─ViTPatchEmbeddings: 3-1                     [1, 3, 224, 224]          [1, 196, 768]             590,592                   True\n",
       "│    │    └─Dropout: 3-2                                [1, 197, 768]             [1, 197, 768]             --                        --\n",
       "│    └─ViTEncoder: 2-2                                  [1, 197, 768]             [1, 197, 768]             --                        True\n",
       "│    │    └─ModuleList: 3-3                             --                        --                        85,054,464                True\n",
       "│    └─LayerNorm: 2-3                                   [1, 197, 768]             [1, 197, 768]             1,536                     True\n",
       "├─Linear: 1-2                                           [1, 768]                  [1, 3116]                 2,396,204                 True\n",
       "===========================================================================================================================================================\n",
       "Total params: 88,194,860\n",
       "Trainable params: 88,194,860\n",
       "Non-trainable params: 0\n",
       "Total mult-adds (M): 203.21\n",
       "===========================================================================================================================================================\n",
       "Input size (MB): 0.60\n",
       "Forward/backward pass size (MB): 162.21\n",
       "Params size (MB): 352.17\n",
       "Estimated Total Size (MB): 514.98\n",
       "==========================================================================================================================================================="
      ]
     },
     "execution_count": 24,
     "metadata": {},
     "output_type": "execute_result"
    }
   ],
   "source": [
    "summary(model=model, input_size=(1, 3, 224, 224), col_names=['input_size', 'output_size', 'num_params', 'trainable'])"
   ]
  },
  {
   "cell_type": "code",
   "execution_count": 25,
   "id": "ad51442c",
   "metadata": {
    "execution": {
     "iopub.execute_input": "2024-04-16T12:12:34.079637Z",
     "iopub.status.busy": "2024-04-16T12:12:34.079357Z",
     "iopub.status.idle": "2024-04-16T12:12:34.086510Z",
     "shell.execute_reply": "2024-04-16T12:12:34.085754Z"
    },
    "papermill": {
     "duration": 0.020589,
     "end_time": "2024-04-16T12:12:34.088383",
     "exception": false,
     "start_time": "2024-04-16T12:12:34.067794",
     "status": "completed"
    },
    "tags": []
   },
   "outputs": [],
   "source": [
    "training_args = TrainingArguments(\n",
    "    output_dir='/kaggle/working/vit-hid',\n",
    "    per_device_train_batch_size=128,\n",
    "    per_device_eval_batch_size=128,\n",
    "    evaluation_strategy='steps',\n",
    "    num_train_epochs=6,\n",
    "    fp16=True,\n",
    "    save_steps=120,\n",
    "    eval_steps=120,\n",
    "    logging_steps=10,\n",
    "    learning_rate=2e-3,\n",
    "    save_total_limit=2,\n",
    "    remove_unused_columns=False,\n",
    "    push_to_hub=False,\n",
    "    report_to='wandb',\n",
    "    run_name='vit-run-kg-fl-03',\n",
    "    load_best_model_at_end=True,\n",
    "    metric_for_best_model='map_at_5',\n",
    "    greater_is_better=True,\n",
    ")"
   ]
  },
  {
   "cell_type": "code",
   "execution_count": 26,
   "id": "7f1007bc",
   "metadata": {
    "execution": {
     "iopub.execute_input": "2024-04-16T12:12:34.112284Z",
     "iopub.status.busy": "2024-04-16T12:12:34.112011Z",
     "iopub.status.idle": "2024-04-16T12:12:34.128597Z",
     "shell.execute_reply": "2024-04-16T12:12:34.127707Z"
    },
    "papermill": {
     "duration": 0.031029,
     "end_time": "2024-04-16T12:12:34.130689",
     "exception": false,
     "start_time": "2024-04-16T12:12:34.099660",
     "status": "completed"
    },
    "tags": []
   },
   "outputs": [
    {
     "name": "stderr",
     "output_type": "stream",
     "text": [
      "/opt/conda/lib/python3.10/site-packages/accelerate/accelerator.py:432: FutureWarning: Passing the following arguments to `Accelerator` is deprecated and will be removed in version 1.0 of Accelerate: dict_keys(['dispatch_batches', 'split_batches', 'even_batches', 'use_seedable_sampler']). Please pass an `accelerate.DataLoaderConfiguration` instead: \n",
      "dataloader_config = DataLoaderConfiguration(dispatch_batches=None, split_batches=False, even_batches=True, use_seedable_sampler=True)\n",
      "  warnings.warn(\n"
     ]
    }
   ],
   "source": [
    "trainer = Trainer(\n",
    "    model=model,\n",
    "    args=training_args,\n",
    "    data_collator=collate_fn,\n",
    "    compute_metrics=compute_metrics,\n",
    "    train_dataset=train_ds,\n",
    "    eval_dataset=val_ds,\n",
    "    tokenizer=processor,\n",
    ")"
   ]
  },
  {
   "cell_type": "code",
   "execution_count": 27,
   "id": "b082772c",
   "metadata": {
    "execution": {
     "iopub.execute_input": "2024-04-16T12:12:34.155023Z",
     "iopub.status.busy": "2024-04-16T12:12:34.154692Z",
     "iopub.status.idle": "2024-04-16T18:16:30.022191Z",
     "shell.execute_reply": "2024-04-16T18:16:30.020771Z"
    },
    "papermill": {
     "duration": 21835.882742,
     "end_time": "2024-04-16T18:16:30.025033",
     "exception": false,
     "start_time": "2024-04-16T12:12:34.142291",
     "status": "completed"
    },
    "tags": []
   },
   "outputs": [
    {
     "name": "stderr",
     "output_type": "stream",
     "text": [
      "\u001b[34m\u001b[1mwandb\u001b[0m: \u001b[33mWARNING\u001b[0m Changes to your `wandb` environment variables will be ignored because your `wandb` session has already started. For more information on how to modify your settings with `wandb.init()` arguments, please refer to \u001b[34m\u001b[4mhttps://wandb.me/wandb-init\u001b[0m.\n",
      "\u001b[34m\u001b[1mwandb\u001b[0m: Currently logged in as: \u001b[33mart-av-ch-1\u001b[0m. Use \u001b[1m`wandb login --relogin`\u001b[0m to force relogin\n",
      "\u001b[34m\u001b[1mwandb\u001b[0m: wandb version 0.16.6 is available!  To upgrade, please run:\n",
      "\u001b[34m\u001b[1mwandb\u001b[0m:  $ pip install wandb --upgrade\n",
      "\u001b[34m\u001b[1mwandb\u001b[0m: Tracking run with wandb version 0.16.5\n",
      "\u001b[34m\u001b[1mwandb\u001b[0m: Run data is saved locally in \u001b[35m\u001b[1m/kaggle/working/wandb/run-20240416_121234-loyzpa9l\u001b[0m\n",
      "\u001b[34m\u001b[1mwandb\u001b[0m: Run \u001b[1m`wandb offline`\u001b[0m to turn off syncing.\n",
      "\u001b[34m\u001b[1mwandb\u001b[0m: Syncing run \u001b[33mvit-run-kg-fl-03\u001b[0m\n",
      "\u001b[34m\u001b[1mwandb\u001b[0m: ⭐️ View project at \u001b[34m\u001b[4mhttps://wandb.ai/art-av-ch-1/hotel-id-vit-v1\u001b[0m\n",
      "\u001b[34m\u001b[1mwandb\u001b[0m: 🚀 View run at \u001b[34m\u001b[4mhttps://wandb.ai/art-av-ch-1/hotel-id-vit-v1/runs/loyzpa9l/workspace\u001b[0m\n",
      "\u001b[34m\u001b[1mwandb\u001b[0m: \u001b[33mWARNING\u001b[0m Serializing object of type dict that is 147552 bytes\n",
      "\u001b[34m\u001b[1mwandb\u001b[0m: \u001b[33mWARNING\u001b[0m Serializing object of type dict that is 147552 bytes\n"
     ]
    },
    {
     "data": {
      "text/html": [
       "\n",
       "    <div>\n",
       "      \n",
       "      <progress value='1470' max='1470' style='width:300px; height:20px; vertical-align: middle;'></progress>\n",
       "      [1470/1470 6:03:13, Epoch 6/6]\n",
       "    </div>\n",
       "    <table border=\"1\" class=\"dataframe\">\n",
       "  <thead>\n",
       " <tr style=\"text-align: left;\">\n",
       "      <th>Step</th>\n",
       "      <th>Training Loss</th>\n",
       "      <th>Validation Loss</th>\n",
       "      <th>Topk Acc At 5</th>\n",
       "      <th>Topk Acc At 10</th>\n",
       "      <th>Topk Acc At 100</th>\n",
       "      <th>Map At 5</th>\n",
       "    </tr>\n",
       "  </thead>\n",
       "  <tbody>\n",
       "    <tr>\n",
       "      <td>120</td>\n",
       "      <td>7.545500</td>\n",
       "      <td>7.575208</td>\n",
       "      <td>0.086353</td>\n",
       "      <td>0.123714</td>\n",
       "      <td>0.240716</td>\n",
       "      <td>0.575691</td>\n",
       "    </tr>\n",
       "    <tr>\n",
       "      <td>240</td>\n",
       "      <td>7.461600</td>\n",
       "      <td>7.490286</td>\n",
       "      <td>0.087919</td>\n",
       "      <td>0.125503</td>\n",
       "      <td>0.244072</td>\n",
       "      <td>0.567303</td>\n",
       "    </tr>\n",
       "    <tr>\n",
       "      <td>360</td>\n",
       "      <td>7.378000</td>\n",
       "      <td>7.468822</td>\n",
       "      <td>0.089038</td>\n",
       "      <td>0.131096</td>\n",
       "      <td>0.256152</td>\n",
       "      <td>0.564908</td>\n",
       "    </tr>\n",
       "    <tr>\n",
       "      <td>480</td>\n",
       "      <td>7.410800</td>\n",
       "      <td>7.419505</td>\n",
       "      <td>0.091275</td>\n",
       "      <td>0.136018</td>\n",
       "      <td>0.259732</td>\n",
       "      <td>0.596691</td>\n",
       "    </tr>\n",
       "    <tr>\n",
       "      <td>600</td>\n",
       "      <td>7.312700</td>\n",
       "      <td>7.352670</td>\n",
       "      <td>0.102237</td>\n",
       "      <td>0.140492</td>\n",
       "      <td>0.273602</td>\n",
       "      <td>0.564478</td>\n",
       "    </tr>\n",
       "    <tr>\n",
       "      <td>720</td>\n",
       "      <td>7.124900</td>\n",
       "      <td>7.235045</td>\n",
       "      <td>0.121477</td>\n",
       "      <td>0.148770</td>\n",
       "      <td>0.296644</td>\n",
       "      <td>0.587354</td>\n",
       "    </tr>\n",
       "    <tr>\n",
       "      <td>840</td>\n",
       "      <td>6.963500</td>\n",
       "      <td>7.165951</td>\n",
       "      <td>0.129754</td>\n",
       "      <td>0.159284</td>\n",
       "      <td>0.304027</td>\n",
       "      <td>0.654713</td>\n",
       "    </tr>\n",
       "    <tr>\n",
       "      <td>960</td>\n",
       "      <td>6.863800</td>\n",
       "      <td>7.049766</td>\n",
       "      <td>0.131767</td>\n",
       "      <td>0.158166</td>\n",
       "      <td>0.322819</td>\n",
       "      <td>0.706848</td>\n",
       "    </tr>\n",
       "    <tr>\n",
       "      <td>1080</td>\n",
       "      <td>6.655200</td>\n",
       "      <td>6.985171</td>\n",
       "      <td>0.144519</td>\n",
       "      <td>0.170470</td>\n",
       "      <td>0.337360</td>\n",
       "      <td>0.730315</td>\n",
       "    </tr>\n",
       "    <tr>\n",
       "      <td>1200</td>\n",
       "      <td>6.567600</td>\n",
       "      <td>6.868804</td>\n",
       "      <td>0.151230</td>\n",
       "      <td>0.178747</td>\n",
       "      <td>0.356376</td>\n",
       "      <td>0.734689</td>\n",
       "    </tr>\n",
       "    <tr>\n",
       "      <td>1320</td>\n",
       "      <td>6.301100</td>\n",
       "      <td>6.844120</td>\n",
       "      <td>0.155705</td>\n",
       "      <td>0.184340</td>\n",
       "      <td>0.364653</td>\n",
       "      <td>0.765589</td>\n",
       "    </tr>\n",
       "    <tr>\n",
       "      <td>1440</td>\n",
       "      <td>6.279000</td>\n",
       "      <td>6.801728</td>\n",
       "      <td>0.159284</td>\n",
       "      <td>0.187696</td>\n",
       "      <td>0.368009</td>\n",
       "      <td>0.764864</td>\n",
       "    </tr>\n",
       "  </tbody>\n",
       "</table><p>"
      ],
      "text/plain": [
       "<IPython.core.display.HTML object>"
      ]
     },
     "metadata": {},
     "output_type": "display_data"
    },
    {
     "name": "stderr",
     "output_type": "stream",
     "text": [
      "\u001b[34m\u001b[1mwandb\u001b[0m: Adding directory to artifact (/kaggle/working/vit-hid/checkpoint-120)... Done. 3.2s\n",
      "\u001b[34m\u001b[1mwandb\u001b[0m: \u001b[33mWARNING\u001b[0m Serializing object of type dict that is 147552 bytes\n",
      "\u001b[34m\u001b[1mwandb\u001b[0m: \u001b[33mWARNING\u001b[0m Serializing object of type dict that is 147552 bytes\n",
      "\u001b[34m\u001b[1mwandb\u001b[0m: Adding directory to artifact (/kaggle/working/vit-hid/checkpoint-240)... Done. 3.0s\n",
      "\u001b[34m\u001b[1mwandb\u001b[0m: \u001b[33mWARNING\u001b[0m Serializing object of type dict that is 147552 bytes\n",
      "\u001b[34m\u001b[1mwandb\u001b[0m: \u001b[33mWARNING\u001b[0m Serializing object of type dict that is 147552 bytes\n",
      "\u001b[34m\u001b[1mwandb\u001b[0m: Adding directory to artifact (/kaggle/working/vit-hid/checkpoint-360)... Done. 3.1s\n",
      "\u001b[34m\u001b[1mwandb\u001b[0m: \u001b[33mWARNING\u001b[0m Serializing object of type dict that is 147552 bytes\n",
      "\u001b[34m\u001b[1mwandb\u001b[0m: \u001b[33mWARNING\u001b[0m Serializing object of type dict that is 147552 bytes\n",
      "\u001b[34m\u001b[1mwandb\u001b[0m: Adding directory to artifact (/kaggle/working/vit-hid/checkpoint-480)... Done. 2.9s\n",
      "\u001b[34m\u001b[1mwandb\u001b[0m: \u001b[33mWARNING\u001b[0m Serializing object of type dict that is 147552 bytes\n",
      "\u001b[34m\u001b[1mwandb\u001b[0m: \u001b[33mWARNING\u001b[0m Serializing object of type dict that is 147552 bytes\n",
      "\u001b[34m\u001b[1mwandb\u001b[0m: Adding directory to artifact (/kaggle/working/vit-hid/checkpoint-600)... Done. 3.3s\n",
      "\u001b[34m\u001b[1mwandb\u001b[0m: \u001b[33mWARNING\u001b[0m Serializing object of type dict that is 147552 bytes\n",
      "\u001b[34m\u001b[1mwandb\u001b[0m: \u001b[33mWARNING\u001b[0m Serializing object of type dict that is 147552 bytes\n",
      "\u001b[34m\u001b[1mwandb\u001b[0m: Adding directory to artifact (/kaggle/working/vit-hid/checkpoint-720)... Done. 3.2s\n",
      "\u001b[34m\u001b[1mwandb\u001b[0m: \u001b[33mWARNING\u001b[0m Serializing object of type dict that is 147552 bytes\n",
      "\u001b[34m\u001b[1mwandb\u001b[0m: \u001b[33mWARNING\u001b[0m Serializing object of type dict that is 147552 bytes\n",
      "\u001b[34m\u001b[1mwandb\u001b[0m: Adding directory to artifact (/kaggle/working/vit-hid/checkpoint-840)... Done. 3.1s\n",
      "\u001b[34m\u001b[1mwandb\u001b[0m: \u001b[33mWARNING\u001b[0m Serializing object of type dict that is 147552 bytes\n",
      "\u001b[34m\u001b[1mwandb\u001b[0m: \u001b[33mWARNING\u001b[0m Serializing object of type dict that is 147552 bytes\n",
      "\u001b[34m\u001b[1mwandb\u001b[0m: Adding directory to artifact (/kaggle/working/vit-hid/checkpoint-960)... Done. 3.2s\n",
      "\u001b[34m\u001b[1mwandb\u001b[0m: \u001b[33mWARNING\u001b[0m Serializing object of type dict that is 147552 bytes\n",
      "\u001b[34m\u001b[1mwandb\u001b[0m: \u001b[33mWARNING\u001b[0m Serializing object of type dict that is 147552 bytes\n",
      "\u001b[34m\u001b[1mwandb\u001b[0m: Adding directory to artifact (/kaggle/working/vit-hid/checkpoint-1080)... Done. 3.1s\n",
      "\u001b[34m\u001b[1mwandb\u001b[0m: \u001b[33mWARNING\u001b[0m Serializing object of type dict that is 147552 bytes\n",
      "\u001b[34m\u001b[1mwandb\u001b[0m: \u001b[33mWARNING\u001b[0m Serializing object of type dict that is 147552 bytes\n",
      "\u001b[34m\u001b[1mwandb\u001b[0m: Adding directory to artifact (/kaggle/working/vit-hid/checkpoint-1200)... Done. 3.2s\n",
      "\u001b[34m\u001b[1mwandb\u001b[0m: \u001b[33mWARNING\u001b[0m Serializing object of type dict that is 147552 bytes\n",
      "\u001b[34m\u001b[1mwandb\u001b[0m: \u001b[33mWARNING\u001b[0m Serializing object of type dict that is 147552 bytes\n",
      "\u001b[34m\u001b[1mwandb\u001b[0m: Adding directory to artifact (/kaggle/working/vit-hid/checkpoint-1320)... Done. 3.2s\n",
      "\u001b[34m\u001b[1mwandb\u001b[0m: \u001b[33mWARNING\u001b[0m Serializing object of type dict that is 147552 bytes\n",
      "\u001b[34m\u001b[1mwandb\u001b[0m: \u001b[33mWARNING\u001b[0m Serializing object of type dict that is 147552 bytes\n",
      "\u001b[34m\u001b[1mwandb\u001b[0m: Adding directory to artifact (/kaggle/working/vit-hid/checkpoint-1440)... Done. 3.2s\n",
      "\u001b[34m\u001b[1mwandb\u001b[0m: \u001b[33mWARNING\u001b[0m Serializing object of type dict that is 147552 bytes\n",
      "\u001b[34m\u001b[1mwandb\u001b[0m: \u001b[33mWARNING\u001b[0m Serializing object of type dict that is 147552 bytes\n",
      "/opt/conda/lib/python3.10/site-packages/accelerate/accelerator.py:432: FutureWarning: Passing the following arguments to `Accelerator` is deprecated and will be removed in version 1.0 of Accelerate: dict_keys(['dispatch_batches', 'split_batches', 'even_batches', 'use_seedable_sampler']). Please pass an `accelerate.DataLoaderConfiguration` instead: \n",
      "dataloader_config = DataLoaderConfiguration(dispatch_batches=None, split_batches=False, even_batches=True, use_seedable_sampler=True)\n",
      "  warnings.warn(\n",
      "\u001b[34m\u001b[1mwandb\u001b[0m: \u001b[33mWARNING\u001b[0m Serializing object of type dict that is 147552 bytes\n",
      "\u001b[34m\u001b[1mwandb\u001b[0m: \u001b[33mWARNING\u001b[0m Serializing object of type dict that is 147552 bytes\n"
     ]
    },
    {
     "name": "stdout",
     "output_type": "stream",
     "text": [
      "***** Train metrics *****\n",
      "  epoch                    =           6.0\n",
      "  total_flos               = 13927803790GF\n",
      "  train_loss               =        6.9976\n",
      "  train_runtime            =    6:03:51.20\n",
      "  train_samples_per_second =           8.6\n",
      "  train_steps_per_second   =         0.067\n"
     ]
    }
   ],
   "source": [
    "train_results = trainer.train()\n",
    "trainer.save_model()\n",
    "trainer.log_metrics(\"Train\", train_results.metrics)\n",
    "trainer.save_metrics(\"train\", train_results.metrics)\n",
    "trainer.save_state()"
   ]
  },
  {
   "cell_type": "code",
   "execution_count": 28,
   "id": "6e449a45",
   "metadata": {
    "execution": {
     "iopub.execute_input": "2024-04-16T18:16:30.060015Z",
     "iopub.status.busy": "2024-04-16T18:16:30.058637Z",
     "iopub.status.idle": "2024-04-16T18:30:01.274441Z",
     "shell.execute_reply": "2024-04-16T18:30:01.273100Z"
    },
    "papermill": {
     "duration": 811.235388,
     "end_time": "2024-04-16T18:30:01.276520",
     "exception": false,
     "start_time": "2024-04-16T18:16:30.041132",
     "status": "completed"
    },
    "tags": []
   },
   "outputs": [
    {
     "data": {
      "text/html": [
       "\n",
       "    <div>\n",
       "      \n",
       "      <progress value='70' max='70' style='width:300px; height:20px; vertical-align: middle;'></progress>\n",
       "      [70/70 13:02]\n",
       "    </div>\n",
       "    "
      ],
      "text/plain": [
       "<IPython.core.display.HTML object>"
      ]
     },
     "metadata": {},
     "output_type": "display_data"
    },
    {
     "name": "stdout",
     "output_type": "stream",
     "text": [
      "***** Eval metrics *****\n",
      "  epoch                   =        6.0\n",
      "  eval_loss               =     6.7869\n",
      "  eval_map_at_5           =      0.758\n",
      "  eval_runtime            = 0:13:31.19\n",
      "  eval_samples_per_second =     11.022\n",
      "  eval_steps_per_second   =      0.086\n",
      "  eval_topk_acc_at_10     =      0.183\n",
      "  eval_topk_acc_at_100    =     0.3649\n",
      "  eval_topk_acc_at_5      =     0.1566\n"
     ]
    }
   ],
   "source": [
    "metrics = trainer.evaluate(test_ds)\n",
    "trainer.log_metrics(\"Eval\", metrics)\n",
    "trainer.save_metrics(\"eval\", metrics)"
   ]
  },
  {
   "cell_type": "code",
   "execution_count": 29,
   "id": "94c1a961",
   "metadata": {
    "execution": {
     "iopub.execute_input": "2024-04-16T18:30:01.310117Z",
     "iopub.status.busy": "2024-04-16T18:30:01.309811Z",
     "iopub.status.idle": "2024-04-16T18:30:07.193821Z",
     "shell.execute_reply": "2024-04-16T18:30:07.193143Z"
    },
    "papermill": {
     "duration": 5.90306,
     "end_time": "2024-04-16T18:30:07.195866",
     "exception": false,
     "start_time": "2024-04-16T18:30:01.292806",
     "status": "completed"
    },
    "tags": []
   },
   "outputs": [
    {
     "name": "stderr",
     "output_type": "stream",
     "text": [
      "\u001b[34m\u001b[1mwandb\u001b[0m:                                                                                \n",
      "\u001b[34m\u001b[1mwandb\u001b[0m: \n",
      "\u001b[34m\u001b[1mwandb\u001b[0m: Run history:\n",
      "\u001b[34m\u001b[1mwandb\u001b[0m:               eval/loss █▇▇▇▆▅▄▃▃▂▂▁▁\n",
      "\u001b[34m\u001b[1mwandb\u001b[0m:           eval/map_at_5 ▁▁▁▂▁▂▄▆▇▇███\n",
      "\u001b[34m\u001b[1mwandb\u001b[0m:            eval/runtime ▂▁▁▂▁▁▁▁▁▁▁▁█\n",
      "\u001b[34m\u001b[1mwandb\u001b[0m: eval/samples_per_second ▂█▇▄▇▇▇▇▇▇▇▇▁\n",
      "\u001b[34m\u001b[1mwandb\u001b[0m:   eval/steps_per_second ▂█▇▄▇█▇▇▇█▇▇▁\n",
      "\u001b[34m\u001b[1mwandb\u001b[0m:     eval/topk_acc_at_10 ▁▁▂▂▃▄▅▅▆▇██▇\n",
      "\u001b[34m\u001b[1mwandb\u001b[0m:    eval/topk_acc_at_100 ▁▁▂▂▃▄▄▆▆▇███\n",
      "\u001b[34m\u001b[1mwandb\u001b[0m:      eval/topk_acc_at_5 ▁▁▁▁▃▄▅▅▇▇███\n",
      "\u001b[34m\u001b[1mwandb\u001b[0m:             train/epoch ▁▁▁▂▂▂▂▂▂▃▃▃▃▃▄▄▄▄▄▄▅▅▅▅▅▅▆▆▆▆▆▇▇▇▇▇▇███\n",
      "\u001b[34m\u001b[1mwandb\u001b[0m:       train/global_step ▁▁▁▂▂▂▂▂▂▃▃▃▃▃▄▄▄▄▄▄▅▅▅▅▅▅▆▆▆▆▆▇▇▇▇▇▇███\n",
      "\u001b[34m\u001b[1mwandb\u001b[0m:         train/grad_norm ▃▂▂▂▂▁▁▁▁▁▂▂▁▂▂▃▂▂▂▃▃▃▃▂▆▄▅▄▅▄▄▄▄▄▅▆▆█▅▆\n",
      "\u001b[34m\u001b[1mwandb\u001b[0m:     train/learning_rate ████▇▇▇▇▇▆▆▆▆▆▆▅▅▅▅▅▅▄▄▄▄▄▃▃▃▃▃▂▂▂▂▂▂▁▁▁\n",
      "\u001b[34m\u001b[1mwandb\u001b[0m:              train/loss ██▇▇▇▇▇▆▆▆▆▆▆▆▆▆▆▅▆▅▅▅▄▄▄▄▄▃▃▃▃▂▃▂▁▁▁▁▁▁\n",
      "\u001b[34m\u001b[1mwandb\u001b[0m: \n",
      "\u001b[34m\u001b[1mwandb\u001b[0m: Run summary:\n",
      "\u001b[34m\u001b[1mwandb\u001b[0m:                eval/loss 6.78689\n",
      "\u001b[34m\u001b[1mwandb\u001b[0m:            eval/map_at_5 0.75804\n",
      "\u001b[34m\u001b[1mwandb\u001b[0m:             eval/runtime 811.1957\n",
      "\u001b[34m\u001b[1mwandb\u001b[0m:  eval/samples_per_second 11.022\n",
      "\u001b[34m\u001b[1mwandb\u001b[0m:    eval/steps_per_second 0.086\n",
      "\u001b[34m\u001b[1mwandb\u001b[0m:      eval/topk_acc_at_10 0.18298\n",
      "\u001b[34m\u001b[1mwandb\u001b[0m:     eval/topk_acc_at_100 0.36495\n",
      "\u001b[34m\u001b[1mwandb\u001b[0m:       eval/topk_acc_at_5 0.15658\n",
      "\u001b[34m\u001b[1mwandb\u001b[0m:               total_flos 1.4954865446567854e+19\n",
      "\u001b[34m\u001b[1mwandb\u001b[0m:              train/epoch 6.0\n",
      "\u001b[34m\u001b[1mwandb\u001b[0m:        train/global_step 1470\n",
      "\u001b[34m\u001b[1mwandb\u001b[0m:          train/grad_norm 1.58429\n",
      "\u001b[34m\u001b[1mwandb\u001b[0m:      train/learning_rate 0.0\n",
      "\u001b[34m\u001b[1mwandb\u001b[0m:               train/loss 6.2553\n",
      "\u001b[34m\u001b[1mwandb\u001b[0m:               train_loss 6.99765\n",
      "\u001b[34m\u001b[1mwandb\u001b[0m:            train_runtime 21831.2032\n",
      "\u001b[34m\u001b[1mwandb\u001b[0m: train_samples_per_second 8.6\n",
      "\u001b[34m\u001b[1mwandb\u001b[0m:   train_steps_per_second 0.067\n",
      "\u001b[34m\u001b[1mwandb\u001b[0m: \n",
      "\u001b[34m\u001b[1mwandb\u001b[0m: 🚀 View run \u001b[33mvit-run-kg-fl-03\u001b[0m at: \u001b[34m\u001b[4mhttps://wandb.ai/art-av-ch-1/hotel-id-vit-v1/runs/loyzpa9l/workspace\u001b[0m\n",
      "\u001b[34m\u001b[1mwandb\u001b[0m: Synced 5 W&B file(s), 0 media file(s), 100 artifact file(s) and 0 other file(s)\n",
      "\u001b[34m\u001b[1mwandb\u001b[0m: Find logs at: \u001b[35m\u001b[1m./wandb/run-20240416_121234-loyzpa9l/logs\u001b[0m\n"
     ]
    }
   ],
   "source": [
    "wandb.finish()"
   ]
  },
  {
   "cell_type": "code",
   "execution_count": 30,
   "id": "28d59218",
   "metadata": {
    "execution": {
     "iopub.execute_input": "2024-04-16T18:30:07.231035Z",
     "iopub.status.busy": "2024-04-16T18:30:07.230724Z",
     "iopub.status.idle": "2024-04-16T18:30:07.234620Z",
     "shell.execute_reply": "2024-04-16T18:30:07.233741Z"
    },
    "papermill": {
     "duration": 0.023463,
     "end_time": "2024-04-16T18:30:07.236443",
     "exception": false,
     "start_time": "2024-04-16T18:30:07.212980",
     "status": "completed"
    },
    "tags": []
   },
   "outputs": [],
   "source": [
    "#"
   ]
  }
 ],
 "metadata": {
  "kaggle": {
   "accelerator": "gpu",
   "dataSources": [
    {
     "databundleVersionId": 4957097,
     "sourceId": 35150,
     "sourceType": "competition"
    }
   ],
   "dockerImageVersionId": 30684,
   "isGpuEnabled": true,
   "isInternetEnabled": true,
   "language": "python",
   "sourceType": "notebook"
  },
  "kernelspec": {
   "display_name": "Python 3",
   "language": "python",
   "name": "python3"
  },
  "language_info": {
   "codemirror_mode": {
    "name": "ipython",
    "version": 3
   },
   "file_extension": ".py",
   "mimetype": "text/x-python",
   "name": "python",
   "nbconvert_exporter": "python",
   "pygments_lexer": "ipython3",
   "version": "3.10.13"
  },
  "papermill": {
   "default_parameters": {},
   "duration": 22742.310094,
   "end_time": "2024-04-16T18:30:10.020256",
   "environment_variables": {},
   "exception": null,
   "input_path": "__notebook__.ipynb",
   "output_path": "__notebook__.ipynb",
   "parameters": {},
   "start_time": "2024-04-16T12:11:07.710162",
   "version": "2.5.0"
  },
  "widgets": {
   "application/vnd.jupyter.widget-state+json": {
    "state": {
     "076d3e57d2224fc4b23c1aa31029b512": {
      "model_module": "@jupyter-widgets/base",
      "model_module_version": "1.2.0",
      "model_name": "LayoutModel",
      "state": {
       "_model_module": "@jupyter-widgets/base",
       "_model_module_version": "1.2.0",
       "_model_name": "LayoutModel",
       "_view_count": null,
       "_view_module": "@jupyter-widgets/base",
       "_view_module_version": "1.2.0",
       "_view_name": "LayoutView",
       "align_content": null,
       "align_items": null,
       "align_self": null,
       "border": null,
       "bottom": null,
       "display": null,
       "flex": null,
       "flex_flow": null,
       "grid_area": null,
       "grid_auto_columns": null,
       "grid_auto_flow": null,
       "grid_auto_rows": null,
       "grid_column": null,
       "grid_gap": null,
       "grid_row": null,
       "grid_template_areas": null,
       "grid_template_columns": null,
       "grid_template_rows": null,
       "height": null,
       "justify_content": null,
       "justify_items": null,
       "left": null,
       "margin": null,
       "max_height": null,
       "max_width": null,
       "min_height": null,
       "min_width": null,
       "object_fit": null,
       "object_position": null,
       "order": null,
       "overflow": null,
       "overflow_x": null,
       "overflow_y": null,
       "padding": null,
       "right": null,
       "top": null,
       "visibility": null,
       "width": null
      }
     },
     "0c48570695b743ebb047b5fe111d3870": {
      "model_module": "@jupyter-widgets/base",
      "model_module_version": "1.2.0",
      "model_name": "LayoutModel",
      "state": {
       "_model_module": "@jupyter-widgets/base",
       "_model_module_version": "1.2.0",
       "_model_name": "LayoutModel",
       "_view_count": null,
       "_view_module": "@jupyter-widgets/base",
       "_view_module_version": "1.2.0",
       "_view_name": "LayoutView",
       "align_content": null,
       "align_items": null,
       "align_self": null,
       "border": null,
       "bottom": null,
       "display": null,
       "flex": null,
       "flex_flow": null,
       "grid_area": null,
       "grid_auto_columns": null,
       "grid_auto_flow": null,
       "grid_auto_rows": null,
       "grid_column": null,
       "grid_gap": null,
       "grid_row": null,
       "grid_template_areas": null,
       "grid_template_columns": null,
       "grid_template_rows": null,
       "height": null,
       "justify_content": null,
       "justify_items": null,
       "left": null,
       "margin": null,
       "max_height": null,
       "max_width": null,
       "min_height": null,
       "min_width": null,
       "object_fit": null,
       "object_position": null,
       "order": null,
       "overflow": null,
       "overflow_x": null,
       "overflow_y": null,
       "padding": null,
       "right": null,
       "top": null,
       "visibility": null,
       "width": null
      }
     },
     "0efd8a702f9a4d38b590360526fcabc4": {
      "model_module": "@jupyter-widgets/controls",
      "model_module_version": "1.5.0",
      "model_name": "DescriptionStyleModel",
      "state": {
       "_model_module": "@jupyter-widgets/controls",
       "_model_module_version": "1.5.0",
       "_model_name": "DescriptionStyleModel",
       "_view_count": null,
       "_view_module": "@jupyter-widgets/base",
       "_view_module_version": "1.2.0",
       "_view_name": "StyleView",
       "description_width": ""
      }
     },
     "19213724a68a473c8c3885791a75954f": {
      "model_module": "@jupyter-widgets/base",
      "model_module_version": "1.2.0",
      "model_name": "LayoutModel",
      "state": {
       "_model_module": "@jupyter-widgets/base",
       "_model_module_version": "1.2.0",
       "_model_name": "LayoutModel",
       "_view_count": null,
       "_view_module": "@jupyter-widgets/base",
       "_view_module_version": "1.2.0",
       "_view_name": "LayoutView",
       "align_content": null,
       "align_items": null,
       "align_self": null,
       "border": null,
       "bottom": null,
       "display": null,
       "flex": null,
       "flex_flow": null,
       "grid_area": null,
       "grid_auto_columns": null,
       "grid_auto_flow": null,
       "grid_auto_rows": null,
       "grid_column": null,
       "grid_gap": null,
       "grid_row": null,
       "grid_template_areas": null,
       "grid_template_columns": null,
       "grid_template_rows": null,
       "height": null,
       "justify_content": null,
       "justify_items": null,
       "left": null,
       "margin": null,
       "max_height": null,
       "max_width": null,
       "min_height": null,
       "min_width": null,
       "object_fit": null,
       "object_position": null,
       "order": null,
       "overflow": null,
       "overflow_x": null,
       "overflow_y": null,
       "padding": null,
       "right": null,
       "top": null,
       "visibility": null,
       "width": null
      }
     },
     "2a07b2e62e194d168417c805d3cc8483": {
      "model_module": "@jupyter-widgets/controls",
      "model_module_version": "1.5.0",
      "model_name": "ProgressStyleModel",
      "state": {
       "_model_module": "@jupyter-widgets/controls",
       "_model_module_version": "1.5.0",
       "_model_name": "ProgressStyleModel",
       "_view_count": null,
       "_view_module": "@jupyter-widgets/base",
       "_view_module_version": "1.2.0",
       "_view_name": "StyleView",
       "bar_color": null,
       "description_width": ""
      }
     },
     "33460377ebc74d248c6993da6baf8dd4": {
      "model_module": "@jupyter-widgets/controls",
      "model_module_version": "1.5.0",
      "model_name": "FloatProgressModel",
      "state": {
       "_dom_classes": [],
       "_model_module": "@jupyter-widgets/controls",
       "_model_module_version": "1.5.0",
       "_model_name": "FloatProgressModel",
       "_view_count": null,
       "_view_module": "@jupyter-widgets/controls",
       "_view_module_version": "1.5.0",
       "_view_name": "ProgressView",
       "bar_style": "success",
       "description": "",
       "description_tooltip": null,
       "layout": "IPY_MODEL_0c48570695b743ebb047b5fe111d3870",
       "max": 160,
       "min": 0,
       "orientation": "horizontal",
       "style": "IPY_MODEL_510a8f022ddd4f24b9ad666e5aaa4903",
       "value": 160
      }
     },
     "3ad3123ef85546dda0a0f459089f5988": {
      "model_module": "@jupyter-widgets/controls",
      "model_module_version": "1.5.0",
      "model_name": "HTMLModel",
      "state": {
       "_dom_classes": [],
       "_model_module": "@jupyter-widgets/controls",
       "_model_module_version": "1.5.0",
       "_model_name": "HTMLModel",
       "_view_count": null,
       "_view_module": "@jupyter-widgets/controls",
       "_view_module_version": "1.5.0",
       "_view_name": "HTMLView",
       "description": "",
       "description_tooltip": null,
       "layout": "IPY_MODEL_f1072943d6e14a3a9698c123426a2763",
       "placeholder": "​",
       "style": "IPY_MODEL_e4b75bec4ad44ea9a123d51ebfe0d2a8",
       "value": "config.json: 100%"
      }
     },
     "434920cdc6c34956ae3607bce6df8a59": {
      "model_module": "@jupyter-widgets/base",
      "model_module_version": "1.2.0",
      "model_name": "LayoutModel",
      "state": {
       "_model_module": "@jupyter-widgets/base",
       "_model_module_version": "1.2.0",
       "_model_name": "LayoutModel",
       "_view_count": null,
       "_view_module": "@jupyter-widgets/base",
       "_view_module_version": "1.2.0",
       "_view_name": "LayoutView",
       "align_content": null,
       "align_items": null,
       "align_self": null,
       "border": null,
       "bottom": null,
       "display": null,
       "flex": null,
       "flex_flow": null,
       "grid_area": null,
       "grid_auto_columns": null,
       "grid_auto_flow": null,
       "grid_auto_rows": null,
       "grid_column": null,
       "grid_gap": null,
       "grid_row": null,
       "grid_template_areas": null,
       "grid_template_columns": null,
       "grid_template_rows": null,
       "height": null,
       "justify_content": null,
       "justify_items": null,
       "left": null,
       "margin": null,
       "max_height": null,
       "max_width": null,
       "min_height": null,
       "min_width": null,
       "object_fit": null,
       "object_position": null,
       "order": null,
       "overflow": null,
       "overflow_x": null,
       "overflow_y": null,
       "padding": null,
       "right": null,
       "top": null,
       "visibility": null,
       "width": null
      }
     },
     "510a8f022ddd4f24b9ad666e5aaa4903": {
      "model_module": "@jupyter-widgets/controls",
      "model_module_version": "1.5.0",
      "model_name": "ProgressStyleModel",
      "state": {
       "_model_module": "@jupyter-widgets/controls",
       "_model_module_version": "1.5.0",
       "_model_name": "ProgressStyleModel",
       "_view_count": null,
       "_view_module": "@jupyter-widgets/base",
       "_view_module_version": "1.2.0",
       "_view_name": "StyleView",
       "bar_color": null,
       "description_width": ""
      }
     },
     "585b200d50d14cbdb4edc2506b5c9233": {
      "model_module": "@jupyter-widgets/base",
      "model_module_version": "1.2.0",
      "model_name": "LayoutModel",
      "state": {
       "_model_module": "@jupyter-widgets/base",
       "_model_module_version": "1.2.0",
       "_model_name": "LayoutModel",
       "_view_count": null,
       "_view_module": "@jupyter-widgets/base",
       "_view_module_version": "1.2.0",
       "_view_name": "LayoutView",
       "align_content": null,
       "align_items": null,
       "align_self": null,
       "border": null,
       "bottom": null,
       "display": null,
       "flex": null,
       "flex_flow": null,
       "grid_area": null,
       "grid_auto_columns": null,
       "grid_auto_flow": null,
       "grid_auto_rows": null,
       "grid_column": null,
       "grid_gap": null,
       "grid_row": null,
       "grid_template_areas": null,
       "grid_template_columns": null,
       "grid_template_rows": null,
       "height": null,
       "justify_content": null,
       "justify_items": null,
       "left": null,
       "margin": null,
       "max_height": null,
       "max_width": null,
       "min_height": null,
       "min_width": null,
       "object_fit": null,
       "object_position": null,
       "order": null,
       "overflow": null,
       "overflow_x": null,
       "overflow_y": null,
       "padding": null,
       "right": null,
       "top": null,
       "visibility": null,
       "width": null
      }
     },
     "5fffc9aaf16c42988b4468734c97619f": {
      "model_module": "@jupyter-widgets/controls",
      "model_module_version": "1.5.0",
      "model_name": "HTMLModel",
      "state": {
       "_dom_classes": [],
       "_model_module": "@jupyter-widgets/controls",
       "_model_module_version": "1.5.0",
       "_model_name": "HTMLModel",
       "_view_count": null,
       "_view_module": "@jupyter-widgets/controls",
       "_view_module_version": "1.5.0",
       "_view_name": "HTMLView",
       "description": "",
       "description_tooltip": null,
       "layout": "IPY_MODEL_434920cdc6c34956ae3607bce6df8a59",
       "placeholder": "​",
       "style": "IPY_MODEL_8e5c5549d9b84594a948b49340a8d530",
       "value": " 160/160 [00:00&lt;00:00, 13.6kB/s]"
      }
     },
     "6e9240e2c07648ed8b4ced34021d66cf": {
      "model_module": "@jupyter-widgets/controls",
      "model_module_version": "1.5.0",
      "model_name": "HTMLModel",
      "state": {
       "_dom_classes": [],
       "_model_module": "@jupyter-widgets/controls",
       "_model_module_version": "1.5.0",
       "_model_name": "HTMLModel",
       "_view_count": null,
       "_view_module": "@jupyter-widgets/controls",
       "_view_module_version": "1.5.0",
       "_view_name": "HTMLView",
       "description": "",
       "description_tooltip": null,
       "layout": "IPY_MODEL_9f38ed34bd1f463f83499fb26059359e",
       "placeholder": "​",
       "style": "IPY_MODEL_0efd8a702f9a4d38b590360526fcabc4",
       "value": " 502/502 [00:00&lt;00:00, 41.6kB/s]"
      }
     },
     "732f37c8394b4abdbe2d332ad1dd3f55": {
      "model_module": "@jupyter-widgets/base",
      "model_module_version": "1.2.0",
      "model_name": "LayoutModel",
      "state": {
       "_model_module": "@jupyter-widgets/base",
       "_model_module_version": "1.2.0",
       "_model_name": "LayoutModel",
       "_view_count": null,
       "_view_module": "@jupyter-widgets/base",
       "_view_module_version": "1.2.0",
       "_view_name": "LayoutView",
       "align_content": null,
       "align_items": null,
       "align_self": null,
       "border": null,
       "bottom": null,
       "display": null,
       "flex": null,
       "flex_flow": null,
       "grid_area": null,
       "grid_auto_columns": null,
       "grid_auto_flow": null,
       "grid_auto_rows": null,
       "grid_column": null,
       "grid_gap": null,
       "grid_row": null,
       "grid_template_areas": null,
       "grid_template_columns": null,
       "grid_template_rows": null,
       "height": null,
       "justify_content": null,
       "justify_items": null,
       "left": null,
       "margin": null,
       "max_height": null,
       "max_width": null,
       "min_height": null,
       "min_width": null,
       "object_fit": null,
       "object_position": null,
       "order": null,
       "overflow": null,
       "overflow_x": null,
       "overflow_y": null,
       "padding": null,
       "right": null,
       "top": null,
       "visibility": null,
       "width": null
      }
     },
     "850d8b85c5854675b2fbea535b7c609f": {
      "model_module": "@jupyter-widgets/base",
      "model_module_version": "1.2.0",
      "model_name": "LayoutModel",
      "state": {
       "_model_module": "@jupyter-widgets/base",
       "_model_module_version": "1.2.0",
       "_model_name": "LayoutModel",
       "_view_count": null,
       "_view_module": "@jupyter-widgets/base",
       "_view_module_version": "1.2.0",
       "_view_name": "LayoutView",
       "align_content": null,
       "align_items": null,
       "align_self": null,
       "border": null,
       "bottom": null,
       "display": null,
       "flex": null,
       "flex_flow": null,
       "grid_area": null,
       "grid_auto_columns": null,
       "grid_auto_flow": null,
       "grid_auto_rows": null,
       "grid_column": null,
       "grid_gap": null,
       "grid_row": null,
       "grid_template_areas": null,
       "grid_template_columns": null,
       "grid_template_rows": null,
       "height": null,
       "justify_content": null,
       "justify_items": null,
       "left": null,
       "margin": null,
       "max_height": null,
       "max_width": null,
       "min_height": null,
       "min_width": null,
       "object_fit": null,
       "object_position": null,
       "order": null,
       "overflow": null,
       "overflow_x": null,
       "overflow_y": null,
       "padding": null,
       "right": null,
       "top": null,
       "visibility": null,
       "width": null
      }
     },
     "8bfeba3161f34fae90f68c9e3fa8e408": {
      "model_module": "@jupyter-widgets/controls",
      "model_module_version": "1.5.0",
      "model_name": "HTMLModel",
      "state": {
       "_dom_classes": [],
       "_model_module": "@jupyter-widgets/controls",
       "_model_module_version": "1.5.0",
       "_model_name": "HTMLModel",
       "_view_count": null,
       "_view_module": "@jupyter-widgets/controls",
       "_view_module_version": "1.5.0",
       "_view_name": "HTMLView",
       "description": "",
       "description_tooltip": null,
       "layout": "IPY_MODEL_076d3e57d2224fc4b23c1aa31029b512",
       "placeholder": "​",
       "style": "IPY_MODEL_96b76b6bc45c4b2da64ebd88e61e04b5",
       "value": "model.safetensors: 100%"
      }
     },
     "8e5c5549d9b84594a948b49340a8d530": {
      "model_module": "@jupyter-widgets/controls",
      "model_module_version": "1.5.0",
      "model_name": "DescriptionStyleModel",
      "state": {
       "_model_module": "@jupyter-widgets/controls",
       "_model_module_version": "1.5.0",
       "_model_name": "DescriptionStyleModel",
       "_view_count": null,
       "_view_module": "@jupyter-widgets/base",
       "_view_module_version": "1.2.0",
       "_view_name": "StyleView",
       "description_width": ""
      }
     },
     "919dbb7326f1456da9bc29143c92f4e5": {
      "model_module": "@jupyter-widgets/base",
      "model_module_version": "1.2.0",
      "model_name": "LayoutModel",
      "state": {
       "_model_module": "@jupyter-widgets/base",
       "_model_module_version": "1.2.0",
       "_model_name": "LayoutModel",
       "_view_count": null,
       "_view_module": "@jupyter-widgets/base",
       "_view_module_version": "1.2.0",
       "_view_name": "LayoutView",
       "align_content": null,
       "align_items": null,
       "align_self": null,
       "border": null,
       "bottom": null,
       "display": null,
       "flex": null,
       "flex_flow": null,
       "grid_area": null,
       "grid_auto_columns": null,
       "grid_auto_flow": null,
       "grid_auto_rows": null,
       "grid_column": null,
       "grid_gap": null,
       "grid_row": null,
       "grid_template_areas": null,
       "grid_template_columns": null,
       "grid_template_rows": null,
       "height": null,
       "justify_content": null,
       "justify_items": null,
       "left": null,
       "margin": null,
       "max_height": null,
       "max_width": null,
       "min_height": null,
       "min_width": null,
       "object_fit": null,
       "object_position": null,
       "order": null,
       "overflow": null,
       "overflow_x": null,
       "overflow_y": null,
       "padding": null,
       "right": null,
       "top": null,
       "visibility": null,
       "width": null
      }
     },
     "926d6478c1ea4d5c830c7d882ed88f2a": {
      "model_module": "@jupyter-widgets/controls",
      "model_module_version": "1.5.0",
      "model_name": "HTMLModel",
      "state": {
       "_dom_classes": [],
       "_model_module": "@jupyter-widgets/controls",
       "_model_module_version": "1.5.0",
       "_model_name": "HTMLModel",
       "_view_count": null,
       "_view_module": "@jupyter-widgets/controls",
       "_view_module_version": "1.5.0",
       "_view_name": "HTMLView",
       "description": "",
       "description_tooltip": null,
       "layout": "IPY_MODEL_850d8b85c5854675b2fbea535b7c609f",
       "placeholder": "​",
       "style": "IPY_MODEL_e8d6f12c1bb4415c986ed35f1967cf3b",
       "value": "preprocessor_config.json: 100%"
      }
     },
     "96b76b6bc45c4b2da64ebd88e61e04b5": {
      "model_module": "@jupyter-widgets/controls",
      "model_module_version": "1.5.0",
      "model_name": "DescriptionStyleModel",
      "state": {
       "_model_module": "@jupyter-widgets/controls",
       "_model_module_version": "1.5.0",
       "_model_name": "DescriptionStyleModel",
       "_view_count": null,
       "_view_module": "@jupyter-widgets/base",
       "_view_module_version": "1.2.0",
       "_view_name": "StyleView",
       "description_width": ""
      }
     },
     "9f38ed34bd1f463f83499fb26059359e": {
      "model_module": "@jupyter-widgets/base",
      "model_module_version": "1.2.0",
      "model_name": "LayoutModel",
      "state": {
       "_model_module": "@jupyter-widgets/base",
       "_model_module_version": "1.2.0",
       "_model_name": "LayoutModel",
       "_view_count": null,
       "_view_module": "@jupyter-widgets/base",
       "_view_module_version": "1.2.0",
       "_view_name": "LayoutView",
       "align_content": null,
       "align_items": null,
       "align_self": null,
       "border": null,
       "bottom": null,
       "display": null,
       "flex": null,
       "flex_flow": null,
       "grid_area": null,
       "grid_auto_columns": null,
       "grid_auto_flow": null,
       "grid_auto_rows": null,
       "grid_column": null,
       "grid_gap": null,
       "grid_row": null,
       "grid_template_areas": null,
       "grid_template_columns": null,
       "grid_template_rows": null,
       "height": null,
       "justify_content": null,
       "justify_items": null,
       "left": null,
       "margin": null,
       "max_height": null,
       "max_width": null,
       "min_height": null,
       "min_width": null,
       "object_fit": null,
       "object_position": null,
       "order": null,
       "overflow": null,
       "overflow_x": null,
       "overflow_y": null,
       "padding": null,
       "right": null,
       "top": null,
       "visibility": null,
       "width": null
      }
     },
     "ac16f604aa784d78b8214630eb8e2ca3": {
      "model_module": "@jupyter-widgets/controls",
      "model_module_version": "1.5.0",
      "model_name": "FloatProgressModel",
      "state": {
       "_dom_classes": [],
       "_model_module": "@jupyter-widgets/controls",
       "_model_module_version": "1.5.0",
       "_model_name": "FloatProgressModel",
       "_view_count": null,
       "_view_module": "@jupyter-widgets/controls",
       "_view_module_version": "1.5.0",
       "_view_name": "ProgressView",
       "bar_style": "success",
       "description": "",
       "description_tooltip": null,
       "layout": "IPY_MODEL_732f37c8394b4abdbe2d332ad1dd3f55",
       "max": 502,
       "min": 0,
       "orientation": "horizontal",
       "style": "IPY_MODEL_2a07b2e62e194d168417c805d3cc8483",
       "value": 502
      }
     },
     "ad1ebf2fd41a4d56abc80f1aee63df7d": {
      "model_module": "@jupyter-widgets/controls",
      "model_module_version": "1.5.0",
      "model_name": "HBoxModel",
      "state": {
       "_dom_classes": [],
       "_model_module": "@jupyter-widgets/controls",
       "_model_module_version": "1.5.0",
       "_model_name": "HBoxModel",
       "_view_count": null,
       "_view_module": "@jupyter-widgets/controls",
       "_view_module_version": "1.5.0",
       "_view_name": "HBoxView",
       "box_style": "",
       "children": [
        "IPY_MODEL_926d6478c1ea4d5c830c7d882ed88f2a",
        "IPY_MODEL_33460377ebc74d248c6993da6baf8dd4",
        "IPY_MODEL_5fffc9aaf16c42988b4468734c97619f"
       ],
       "layout": "IPY_MODEL_919dbb7326f1456da9bc29143c92f4e5"
      }
     },
     "b0a1ad89136442adb00385988d55daf7": {
      "model_module": "@jupyter-widgets/controls",
      "model_module_version": "1.5.0",
      "model_name": "HBoxModel",
      "state": {
       "_dom_classes": [],
       "_model_module": "@jupyter-widgets/controls",
       "_model_module_version": "1.5.0",
       "_model_name": "HBoxModel",
       "_view_count": null,
       "_view_module": "@jupyter-widgets/controls",
       "_view_module_version": "1.5.0",
       "_view_name": "HBoxView",
       "box_style": "",
       "children": [
        "IPY_MODEL_3ad3123ef85546dda0a0f459089f5988",
        "IPY_MODEL_ac16f604aa784d78b8214630eb8e2ca3",
        "IPY_MODEL_6e9240e2c07648ed8b4ced34021d66cf"
       ],
       "layout": "IPY_MODEL_b813b219bae9427d8d2cf36285ab7d26"
      }
     },
     "b813b219bae9427d8d2cf36285ab7d26": {
      "model_module": "@jupyter-widgets/base",
      "model_module_version": "1.2.0",
      "model_name": "LayoutModel",
      "state": {
       "_model_module": "@jupyter-widgets/base",
       "_model_module_version": "1.2.0",
       "_model_name": "LayoutModel",
       "_view_count": null,
       "_view_module": "@jupyter-widgets/base",
       "_view_module_version": "1.2.0",
       "_view_name": "LayoutView",
       "align_content": null,
       "align_items": null,
       "align_self": null,
       "border": null,
       "bottom": null,
       "display": null,
       "flex": null,
       "flex_flow": null,
       "grid_area": null,
       "grid_auto_columns": null,
       "grid_auto_flow": null,
       "grid_auto_rows": null,
       "grid_column": null,
       "grid_gap": null,
       "grid_row": null,
       "grid_template_areas": null,
       "grid_template_columns": null,
       "grid_template_rows": null,
       "height": null,
       "justify_content": null,
       "justify_items": null,
       "left": null,
       "margin": null,
       "max_height": null,
       "max_width": null,
       "min_height": null,
       "min_width": null,
       "object_fit": null,
       "object_position": null,
       "order": null,
       "overflow": null,
       "overflow_x": null,
       "overflow_y": null,
       "padding": null,
       "right": null,
       "top": null,
       "visibility": null,
       "width": null
      }
     },
     "c3de00458f404f159fed6f7e9f371217": {
      "model_module": "@jupyter-widgets/controls",
      "model_module_version": "1.5.0",
      "model_name": "FloatProgressModel",
      "state": {
       "_dom_classes": [],
       "_model_module": "@jupyter-widgets/controls",
       "_model_module_version": "1.5.0",
       "_model_name": "FloatProgressModel",
       "_view_count": null,
       "_view_module": "@jupyter-widgets/controls",
       "_view_module_version": "1.5.0",
       "_view_name": "ProgressView",
       "bar_style": "success",
       "description": "",
       "description_tooltip": null,
       "layout": "IPY_MODEL_e9b120ca220144148b0a38dc466a8443",
       "max": 345579424,
       "min": 0,
       "orientation": "horizontal",
       "style": "IPY_MODEL_d0e9f1c4e3344535b6572defb61198c6",
       "value": 345579424
      }
     },
     "d0e9f1c4e3344535b6572defb61198c6": {
      "model_module": "@jupyter-widgets/controls",
      "model_module_version": "1.5.0",
      "model_name": "ProgressStyleModel",
      "state": {
       "_model_module": "@jupyter-widgets/controls",
       "_model_module_version": "1.5.0",
       "_model_name": "ProgressStyleModel",
       "_view_count": null,
       "_view_module": "@jupyter-widgets/base",
       "_view_module_version": "1.2.0",
       "_view_name": "StyleView",
       "bar_color": null,
       "description_width": ""
      }
     },
     "d969c3d7ae4345fab18c37748b0d3133": {
      "model_module": "@jupyter-widgets/controls",
      "model_module_version": "1.5.0",
      "model_name": "HTMLModel",
      "state": {
       "_dom_classes": [],
       "_model_module": "@jupyter-widgets/controls",
       "_model_module_version": "1.5.0",
       "_model_name": "HTMLModel",
       "_view_count": null,
       "_view_module": "@jupyter-widgets/controls",
       "_view_module_version": "1.5.0",
       "_view_name": "HTMLView",
       "description": "",
       "description_tooltip": null,
       "layout": "IPY_MODEL_19213724a68a473c8c3885791a75954f",
       "placeholder": "​",
       "style": "IPY_MODEL_e56dceeefe344f0c9d18182510a290ae",
       "value": " 346M/346M [00:01&lt;00:00, 335MB/s]"
      }
     },
     "e4b75bec4ad44ea9a123d51ebfe0d2a8": {
      "model_module": "@jupyter-widgets/controls",
      "model_module_version": "1.5.0",
      "model_name": "DescriptionStyleModel",
      "state": {
       "_model_module": "@jupyter-widgets/controls",
       "_model_module_version": "1.5.0",
       "_model_name": "DescriptionStyleModel",
       "_view_count": null,
       "_view_module": "@jupyter-widgets/base",
       "_view_module_version": "1.2.0",
       "_view_name": "StyleView",
       "description_width": ""
      }
     },
     "e56dceeefe344f0c9d18182510a290ae": {
      "model_module": "@jupyter-widgets/controls",
      "model_module_version": "1.5.0",
      "model_name": "DescriptionStyleModel",
      "state": {
       "_model_module": "@jupyter-widgets/controls",
       "_model_module_version": "1.5.0",
       "_model_name": "DescriptionStyleModel",
       "_view_count": null,
       "_view_module": "@jupyter-widgets/base",
       "_view_module_version": "1.2.0",
       "_view_name": "StyleView",
       "description_width": ""
      }
     },
     "e8d6f12c1bb4415c986ed35f1967cf3b": {
      "model_module": "@jupyter-widgets/controls",
      "model_module_version": "1.5.0",
      "model_name": "DescriptionStyleModel",
      "state": {
       "_model_module": "@jupyter-widgets/controls",
       "_model_module_version": "1.5.0",
       "_model_name": "DescriptionStyleModel",
       "_view_count": null,
       "_view_module": "@jupyter-widgets/base",
       "_view_module_version": "1.2.0",
       "_view_name": "StyleView",
       "description_width": ""
      }
     },
     "e9b120ca220144148b0a38dc466a8443": {
      "model_module": "@jupyter-widgets/base",
      "model_module_version": "1.2.0",
      "model_name": "LayoutModel",
      "state": {
       "_model_module": "@jupyter-widgets/base",
       "_model_module_version": "1.2.0",
       "_model_name": "LayoutModel",
       "_view_count": null,
       "_view_module": "@jupyter-widgets/base",
       "_view_module_version": "1.2.0",
       "_view_name": "LayoutView",
       "align_content": null,
       "align_items": null,
       "align_self": null,
       "border": null,
       "bottom": null,
       "display": null,
       "flex": null,
       "flex_flow": null,
       "grid_area": null,
       "grid_auto_columns": null,
       "grid_auto_flow": null,
       "grid_auto_rows": null,
       "grid_column": null,
       "grid_gap": null,
       "grid_row": null,
       "grid_template_areas": null,
       "grid_template_columns": null,
       "grid_template_rows": null,
       "height": null,
       "justify_content": null,
       "justify_items": null,
       "left": null,
       "margin": null,
       "max_height": null,
       "max_width": null,
       "min_height": null,
       "min_width": null,
       "object_fit": null,
       "object_position": null,
       "order": null,
       "overflow": null,
       "overflow_x": null,
       "overflow_y": null,
       "padding": null,
       "right": null,
       "top": null,
       "visibility": null,
       "width": null
      }
     },
     "f1072943d6e14a3a9698c123426a2763": {
      "model_module": "@jupyter-widgets/base",
      "model_module_version": "1.2.0",
      "model_name": "LayoutModel",
      "state": {
       "_model_module": "@jupyter-widgets/base",
       "_model_module_version": "1.2.0",
       "_model_name": "LayoutModel",
       "_view_count": null,
       "_view_module": "@jupyter-widgets/base",
       "_view_module_version": "1.2.0",
       "_view_name": "LayoutView",
       "align_content": null,
       "align_items": null,
       "align_self": null,
       "border": null,
       "bottom": null,
       "display": null,
       "flex": null,
       "flex_flow": null,
       "grid_area": null,
       "grid_auto_columns": null,
       "grid_auto_flow": null,
       "grid_auto_rows": null,
       "grid_column": null,
       "grid_gap": null,
       "grid_row": null,
       "grid_template_areas": null,
       "grid_template_columns": null,
       "grid_template_rows": null,
       "height": null,
       "justify_content": null,
       "justify_items": null,
       "left": null,
       "margin": null,
       "max_height": null,
       "max_width": null,
       "min_height": null,
       "min_width": null,
       "object_fit": null,
       "object_position": null,
       "order": null,
       "overflow": null,
       "overflow_x": null,
       "overflow_y": null,
       "padding": null,
       "right": null,
       "top": null,
       "visibility": null,
       "width": null
      }
     },
     "ffc297efcde1483f8047fe0a113d3dc7": {
      "model_module": "@jupyter-widgets/controls",
      "model_module_version": "1.5.0",
      "model_name": "HBoxModel",
      "state": {
       "_dom_classes": [],
       "_model_module": "@jupyter-widgets/controls",
       "_model_module_version": "1.5.0",
       "_model_name": "HBoxModel",
       "_view_count": null,
       "_view_module": "@jupyter-widgets/controls",
       "_view_module_version": "1.5.0",
       "_view_name": "HBoxView",
       "box_style": "",
       "children": [
        "IPY_MODEL_8bfeba3161f34fae90f68c9e3fa8e408",
        "IPY_MODEL_c3de00458f404f159fed6f7e9f371217",
        "IPY_MODEL_d969c3d7ae4345fab18c37748b0d3133"
       ],
       "layout": "IPY_MODEL_585b200d50d14cbdb4edc2506b5c9233"
      }
     }
    },
    "version_major": 2,
    "version_minor": 0
   }
  }
 },
 "nbformat": 4,
 "nbformat_minor": 5
}
