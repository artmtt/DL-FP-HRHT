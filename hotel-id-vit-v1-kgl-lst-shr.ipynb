{
 "cells": [
  {
   "cell_type": "code",
   "execution_count": 1,
   "id": "e211e5cb",
   "metadata": {
    "_cell_guid": "b1076dfc-b9ad-4769-8c92-a6c4dae69d19",
    "_uuid": "8f2839f25d086af736a60e9eeb907d3b93b6e0e5",
    "execution": {
     "iopub.execute_input": "2024-04-16T18:57:33.379899Z",
     "iopub.status.busy": "2024-04-16T18:57:33.379501Z",
     "iopub.status.idle": "2024-04-16T18:57:33.390106Z",
     "shell.execute_reply": "2024-04-16T18:57:33.389381Z"
    },
    "papermill": {
     "duration": 0.023306,
     "end_time": "2024-04-16T18:57:33.391944",
     "exception": false,
     "start_time": "2024-04-16T18:57:33.368638",
     "status": "completed"
    },
    "tags": []
   },
   "outputs": [],
   "source": [
    "import os\n",
    "# for dirname, _, filenames in os.walk('/kaggle/input'):\n",
    "#     for filename in filenames:\n",
    "#         print(os.path.join(dirname, filename))\n",
    "\n",
    "# You can write up to 20GB to the current directory (/kaggle/working/) that gets preserved as output when you create a version using \"Save & Run All\" \n",
    "# You can also write temporary files to /kaggle/temp/, but they won't be saved outside of the current session"
   ]
  },
  {
   "cell_type": "code",
   "execution_count": 2,
   "id": "2e20e02b",
   "metadata": {
    "execution": {
     "iopub.execute_input": "2024-04-16T18:57:33.410506Z",
     "iopub.status.busy": "2024-04-16T18:57:33.410212Z",
     "iopub.status.idle": "2024-04-16T18:57:46.537835Z",
     "shell.execute_reply": "2024-04-16T18:57:46.536908Z"
    },
    "papermill": {
     "duration": 13.139163,
     "end_time": "2024-04-16T18:57:46.540201",
     "exception": false,
     "start_time": "2024-04-16T18:57:33.401038",
     "status": "completed"
    },
    "tags": []
   },
   "outputs": [
    {
     "name": "stdout",
     "output_type": "stream",
     "text": [
      "Requirement already satisfied: transformers in /opt/conda/lib/python3.10/site-packages (4.39.3)\r\n",
      "Requirement already satisfied: wandb in /opt/conda/lib/python3.10/site-packages (0.16.5)\r\n",
      "Requirement already satisfied: filelock in /opt/conda/lib/python3.10/site-packages (from transformers) (3.13.1)\r\n",
      "Requirement already satisfied: huggingface-hub<1.0,>=0.19.3 in /opt/conda/lib/python3.10/site-packages (from transformers) (0.22.2)\r\n",
      "Requirement already satisfied: numpy>=1.17 in /opt/conda/lib/python3.10/site-packages (from transformers) (1.26.4)\r\n",
      "Requirement already satisfied: packaging>=20.0 in /opt/conda/lib/python3.10/site-packages (from transformers) (21.3)\r\n",
      "Requirement already satisfied: pyyaml>=5.1 in /opt/conda/lib/python3.10/site-packages (from transformers) (6.0.1)\r\n",
      "Requirement already satisfied: regex!=2019.12.17 in /opt/conda/lib/python3.10/site-packages (from transformers) (2023.12.25)\r\n",
      "Requirement already satisfied: requests in /opt/conda/lib/python3.10/site-packages (from transformers) (2.31.0)\r\n",
      "Requirement already satisfied: tokenizers<0.19,>=0.14 in /opt/conda/lib/python3.10/site-packages (from transformers) (0.15.2)\r\n",
      "Requirement already satisfied: safetensors>=0.4.1 in /opt/conda/lib/python3.10/site-packages (from transformers) (0.4.2)\r\n",
      "Requirement already satisfied: tqdm>=4.27 in /opt/conda/lib/python3.10/site-packages (from transformers) (4.66.1)\r\n",
      "Requirement already satisfied: Click!=8.0.0,>=7.1 in /opt/conda/lib/python3.10/site-packages (from wandb) (8.1.7)\r\n",
      "Requirement already satisfied: GitPython!=3.1.29,>=1.0.0 in /opt/conda/lib/python3.10/site-packages (from wandb) (3.1.41)\r\n",
      "Requirement already satisfied: psutil>=5.0.0 in /opt/conda/lib/python3.10/site-packages (from wandb) (5.9.3)\r\n",
      "Requirement already satisfied: sentry-sdk>=1.0.0 in /opt/conda/lib/python3.10/site-packages (from wandb) (1.44.1)\r\n",
      "Requirement already satisfied: docker-pycreds>=0.4.0 in /opt/conda/lib/python3.10/site-packages (from wandb) (0.4.0)\r\n",
      "Requirement already satisfied: setproctitle in /opt/conda/lib/python3.10/site-packages (from wandb) (1.3.3)\r\n",
      "Requirement already satisfied: setuptools in /opt/conda/lib/python3.10/site-packages (from wandb) (69.0.3)\r\n",
      "Requirement already satisfied: appdirs>=1.4.3 in /opt/conda/lib/python3.10/site-packages (from wandb) (1.4.4)\r\n",
      "Requirement already satisfied: protobuf!=4.21.0,<5,>=3.19.0 in /opt/conda/lib/python3.10/site-packages (from wandb) (3.20.3)\r\n",
      "Requirement already satisfied: six>=1.4.0 in /opt/conda/lib/python3.10/site-packages (from docker-pycreds>=0.4.0->wandb) (1.16.0)\r\n",
      "Requirement already satisfied: gitdb<5,>=4.0.1 in /opt/conda/lib/python3.10/site-packages (from GitPython!=3.1.29,>=1.0.0->wandb) (4.0.11)\r\n",
      "Requirement already satisfied: fsspec>=2023.5.0 in /opt/conda/lib/python3.10/site-packages (from huggingface-hub<1.0,>=0.19.3->transformers) (2024.2.0)\r\n",
      "Requirement already satisfied: typing-extensions>=3.7.4.3 in /opt/conda/lib/python3.10/site-packages (from huggingface-hub<1.0,>=0.19.3->transformers) (4.9.0)\r\n",
      "Requirement already satisfied: pyparsing!=3.0.5,>=2.0.2 in /opt/conda/lib/python3.10/site-packages (from packaging>=20.0->transformers) (3.1.1)\r\n",
      "Requirement already satisfied: charset-normalizer<4,>=2 in /opt/conda/lib/python3.10/site-packages (from requests->transformers) (3.3.2)\r\n",
      "Requirement already satisfied: idna<4,>=2.5 in /opt/conda/lib/python3.10/site-packages (from requests->transformers) (3.6)\r\n",
      "Requirement already satisfied: urllib3<3,>=1.21.1 in /opt/conda/lib/python3.10/site-packages (from requests->transformers) (1.26.18)\r\n",
      "Requirement already satisfied: certifi>=2017.4.17 in /opt/conda/lib/python3.10/site-packages (from requests->transformers) (2024.2.2)\r\n",
      "Requirement already satisfied: smmap<6,>=3.0.1 in /opt/conda/lib/python3.10/site-packages (from gitdb<5,>=4.0.1->GitPython!=3.1.29,>=1.0.0->wandb) (5.0.1)\r\n"
     ]
    }
   ],
   "source": [
    "!pip install transformers wandb"
   ]
  },
  {
   "cell_type": "code",
   "execution_count": 3,
   "id": "c0cb215a",
   "metadata": {
    "execution": {
     "iopub.execute_input": "2024-04-16T18:57:46.560345Z",
     "iopub.status.busy": "2024-04-16T18:57:46.559746Z",
     "iopub.status.idle": "2024-04-16T18:58:04.501929Z",
     "shell.execute_reply": "2024-04-16T18:58:04.501156Z"
    },
    "papermill": {
     "duration": 17.954739,
     "end_time": "2024-04-16T18:58:04.504301",
     "exception": false,
     "start_time": "2024-04-16T18:57:46.549562",
     "status": "completed"
    },
    "tags": []
   },
   "outputs": [
    {
     "name": "stderr",
     "output_type": "stream",
     "text": [
      "2024-04-16 18:57:54.612603: E external/local_xla/xla/stream_executor/cuda/cuda_dnn.cc:9261] Unable to register cuDNN factory: Attempting to register factory for plugin cuDNN when one has already been registered\n",
      "2024-04-16 18:57:54.612721: E external/local_xla/xla/stream_executor/cuda/cuda_fft.cc:607] Unable to register cuFFT factory: Attempting to register factory for plugin cuFFT when one has already been registered\n",
      "2024-04-16 18:57:54.708443: E external/local_xla/xla/stream_executor/cuda/cuda_blas.cc:1515] Unable to register cuBLAS factory: Attempting to register factory for plugin cuBLAS when one has already been registered\n"
     ]
    }
   ],
   "source": [
    "import numpy as np\n",
    "from PIL import Image\n",
    "import random\n",
    "\n",
    "import wandb\n",
    "\n",
    "import torch\n",
    "from torchinfo import summary\n",
    "import torchvision\n",
    "from torchvision import datasets, transforms\n",
    "from torch.utils.data import Dataset, DataLoader, random_split\n",
    "\n",
    "from transformers import ViTImageProcessor, ViTForImageClassification, TrainingArguments, Trainer"
   ]
  },
  {
   "cell_type": "markdown",
   "id": "6dc10199",
   "metadata": {
    "papermill": {
     "duration": 0.009139,
     "end_time": "2024-04-16T18:58:04.523271",
     "exception": false,
     "start_time": "2024-04-16T18:58:04.514132",
     "status": "completed"
    },
    "tags": []
   },
   "source": [
    "## Weights & Biases"
   ]
  },
  {
   "cell_type": "code",
   "execution_count": 5,
   "id": "2ecd48f0",
   "metadata": {
    "execution": {
     "iopub.execute_input": "2024-04-16T18:58:06.307001Z",
     "iopub.status.busy": "2024-04-16T18:58:06.306701Z",
     "iopub.status.idle": "2024-04-16T18:58:06.311076Z",
     "shell.execute_reply": "2024-04-16T18:58:06.310299Z"
    },
    "papermill": {
     "duration": 0.016476,
     "end_time": "2024-04-16T18:58:06.312914",
     "exception": false,
     "start_time": "2024-04-16T18:58:06.296438",
     "status": "completed"
    },
    "tags": []
   },
   "outputs": [],
   "source": [
    "os.environ['WANDB_PROJECT'] = 'hotel-id-vit-v1'\n",
    "os.environ['WANDB_LOG_MODEL'] = 'checkpoint'"
   ]
  },
  {
   "cell_type": "code",
   "execution_count": 6,
   "id": "333b947a",
   "metadata": {
    "execution": {
     "iopub.execute_input": "2024-04-16T18:58:06.332761Z",
     "iopub.status.busy": "2024-04-16T18:58:06.332453Z",
     "iopub.status.idle": "2024-04-16T18:58:06.392317Z",
     "shell.execute_reply": "2024-04-16T18:58:06.391418Z"
    },
    "papermill": {
     "duration": 0.071952,
     "end_time": "2024-04-16T18:58:06.394204",
     "exception": false,
     "start_time": "2024-04-16T18:58:06.322252",
     "status": "completed"
    },
    "tags": []
   },
   "outputs": [
    {
     "data": {
      "text/plain": [
       "True"
      ]
     },
     "execution_count": 6,
     "metadata": {},
     "output_type": "execute_result"
    }
   ],
   "source": [
    "torch.cuda.is_available()"
   ]
  },
  {
   "cell_type": "code",
   "execution_count": 7,
   "id": "06d40636",
   "metadata": {
    "execution": {
     "iopub.execute_input": "2024-04-16T18:58:06.414769Z",
     "iopub.status.busy": "2024-04-16T18:58:06.414415Z",
     "iopub.status.idle": "2024-04-16T18:58:06.418713Z",
     "shell.execute_reply": "2024-04-16T18:58:06.417879Z"
    },
    "papermill": {
     "duration": 0.016803,
     "end_time": "2024-04-16T18:58:06.420708",
     "exception": false,
     "start_time": "2024-04-16T18:58:06.403905",
     "status": "completed"
    },
    "tags": []
   },
   "outputs": [],
   "source": [
    "DATA_PATH = '/kaggle/input/hotel-id-to-combat-human-trafficking-2022-fgvc9/'\n",
    "IMG_PATH = os.path.join(DATA_PATH, 'train_images')"
   ]
  },
  {
   "cell_type": "code",
   "execution_count": 8,
   "id": "e5fae4c5",
   "metadata": {
    "execution": {
     "iopub.execute_input": "2024-04-16T18:58:06.441172Z",
     "iopub.status.busy": "2024-04-16T18:58:06.440861Z",
     "iopub.status.idle": "2024-04-16T18:58:06.631531Z",
     "shell.execute_reply": "2024-04-16T18:58:06.630555Z"
    },
    "papermill": {
     "duration": 0.203496,
     "end_time": "2024-04-16T18:58:06.633816",
     "exception": false,
     "start_time": "2024-04-16T18:58:06.430320",
     "status": "completed"
    },
    "tags": []
   },
   "outputs": [
    {
     "name": "stdout",
     "output_type": "stream",
     "text": [
      "Different IDs: 3116\n"
     ]
    }
   ],
   "source": [
    "total_classes = len(os.listdir(IMG_PATH))\n",
    "\n",
    "print(f'Different IDs: {total_classes}')"
   ]
  },
  {
   "cell_type": "code",
   "execution_count": 9,
   "id": "99db0abe",
   "metadata": {
    "execution": {
     "iopub.execute_input": "2024-04-16T18:58:06.654248Z",
     "iopub.status.busy": "2024-04-16T18:58:06.653968Z",
     "iopub.status.idle": "2024-04-16T18:58:06.658775Z",
     "shell.execute_reply": "2024-04-16T18:58:06.657876Z"
    },
    "papermill": {
     "duration": 0.017061,
     "end_time": "2024-04-16T18:58:06.660680",
     "exception": false,
     "start_time": "2024-04-16T18:58:06.643619",
     "status": "completed"
    },
    "tags": []
   },
   "outputs": [],
   "source": [
    "def set_seed(seed):\n",
    "    torch.manual_seed(seed)\n",
    "    if torch.cuda.is_available():\n",
    "        torch.cuda.manual_seed_all(seed)\n",
    "    np.random.seed(seed)\n",
    "    random.seed(seed)"
   ]
  },
  {
   "cell_type": "code",
   "execution_count": 10,
   "id": "0b4ccc15",
   "metadata": {
    "execution": {
     "iopub.execute_input": "2024-04-16T18:58:06.680876Z",
     "iopub.status.busy": "2024-04-16T18:58:06.680575Z",
     "iopub.status.idle": "2024-04-16T18:58:06.686712Z",
     "shell.execute_reply": "2024-04-16T18:58:06.685981Z"
    },
    "papermill": {
     "duration": 0.018347,
     "end_time": "2024-04-16T18:58:06.688598",
     "exception": false,
     "start_time": "2024-04-16T18:58:06.670251",
     "status": "completed"
    },
    "tags": []
   },
   "outputs": [],
   "source": [
    "set_seed(42)"
   ]
  },
  {
   "cell_type": "code",
   "execution_count": 11,
   "id": "7ed0342e",
   "metadata": {
    "execution": {
     "iopub.execute_input": "2024-04-16T18:58:06.708687Z",
     "iopub.status.busy": "2024-04-16T18:58:06.708403Z",
     "iopub.status.idle": "2024-04-16T18:58:07.195329Z",
     "shell.execute_reply": "2024-04-16T18:58:07.194459Z"
    },
    "papermill": {
     "duration": 0.501604,
     "end_time": "2024-04-16T18:58:07.199671",
     "exception": false,
     "start_time": "2024-04-16T18:58:06.698067",
     "status": "completed"
    },
    "tags": []
   },
   "outputs": [
    {
     "data": {
      "application/vnd.jupyter.widget-view+json": {
       "model_id": "8c7d566dcd1c45969935de8b14b5ce01",
       "version_major": 2,
       "version_minor": 0
      },
      "text/plain": [
       "preprocessor_config.json:   0%|          | 0.00/160 [00:00<?, ?B/s]"
      ]
     },
     "metadata": {},
     "output_type": "display_data"
    },
    {
     "data": {
      "text/plain": [
       "ViTImageProcessor {\n",
       "  \"_valid_processor_keys\": [\n",
       "    \"images\",\n",
       "    \"do_resize\",\n",
       "    \"size\",\n",
       "    \"resample\",\n",
       "    \"do_rescale\",\n",
       "    \"rescale_factor\",\n",
       "    \"do_normalize\",\n",
       "    \"image_mean\",\n",
       "    \"image_std\",\n",
       "    \"return_tensors\",\n",
       "    \"data_format\",\n",
       "    \"input_data_format\"\n",
       "  ],\n",
       "  \"do_normalize\": true,\n",
       "  \"do_rescale\": true,\n",
       "  \"do_resize\": true,\n",
       "  \"image_mean\": [\n",
       "    0.5,\n",
       "    0.5,\n",
       "    0.5\n",
       "  ],\n",
       "  \"image_processor_type\": \"ViTImageProcessor\",\n",
       "  \"image_std\": [\n",
       "    0.5,\n",
       "    0.5,\n",
       "    0.5\n",
       "  ],\n",
       "  \"resample\": 2,\n",
       "  \"rescale_factor\": 0.00392156862745098,\n",
       "  \"size\": {\n",
       "    \"height\": 224,\n",
       "    \"width\": 224\n",
       "  }\n",
       "}"
      ]
     },
     "execution_count": 11,
     "metadata": {},
     "output_type": "execute_result"
    }
   ],
   "source": [
    "model_name_or_path = 'google/vit-base-patch16-224-in21k'\n",
    "\n",
    "processor = ViTImageProcessor.from_pretrained(model_name_or_path)\n",
    "processor"
   ]
  },
  {
   "cell_type": "code",
   "execution_count": 12,
   "id": "7fd62a1c",
   "metadata": {
    "execution": {
     "iopub.execute_input": "2024-04-16T18:58:07.221046Z",
     "iopub.status.busy": "2024-04-16T18:58:07.220743Z",
     "iopub.status.idle": "2024-04-16T18:58:07.228624Z",
     "shell.execute_reply": "2024-04-16T18:58:07.227867Z"
    },
    "papermill": {
     "duration": 0.021043,
     "end_time": "2024-04-16T18:58:07.230761",
     "exception": false,
     "start_time": "2024-04-16T18:58:07.209718",
     "status": "completed"
    },
    "tags": []
   },
   "outputs": [],
   "source": [
    "class CustomImageFolderDataset(Dataset):\n",
    "    def __init__(self, root, processor, transform=None):\n",
    "        self.dataset = datasets.ImageFolder(root=root)\n",
    "        self.processor = processor\n",
    "        self.transform = transform\n",
    "        self.id2label = {idx: label for idx, label in enumerate(self.dataset.classes)}\n",
    "        self.label2id = {label: idx for idx, label in enumerate(self.dataset.classes)}\n",
    "        \n",
    "    def __len__(self):\n",
    "        return len(self.dataset)\n",
    "        \n",
    "    def __getitem__(self, idx):\n",
    "        image, label = self.dataset[idx]\n",
    "        if self.transform is not None:\n",
    "            image = self.transform(image)\n",
    "        processed = self.processor(image, return_tensors='pt')\n",
    "        return {\n",
    "            'pixel_values': processed['pixel_values'].squeeze(0),  # Remove batch dimension\n",
    "            'labels': torch.tensor(label, dtype=torch.long)\n",
    "        }"
   ]
  },
  {
   "cell_type": "code",
   "execution_count": 13,
   "id": "c22a7186",
   "metadata": {
    "execution": {
     "iopub.execute_input": "2024-04-16T18:58:07.251346Z",
     "iopub.status.busy": "2024-04-16T18:58:07.251060Z",
     "iopub.status.idle": "2024-04-16T18:58:07.258572Z",
     "shell.execute_reply": "2024-04-16T18:58:07.257777Z"
    },
    "papermill": {
     "duration": 0.019885,
     "end_time": "2024-04-16T18:58:07.260478",
     "exception": false,
     "start_time": "2024-04-16T18:58:07.240593",
     "status": "completed"
    },
    "tags": []
   },
   "outputs": [],
   "source": [
    "class RandomOcclusion:\n",
    "    def __init__(self, p=0.5, min_size_ratio=0.05, max_size_ratio=0.50):\n",
    "        self.p = p\n",
    "        self.min_size_ratio = min_size_ratio\n",
    "        self.max_size_ratio = max_size_ratio\n",
    "        \n",
    "    def __call__(self, image):\n",
    "        if random.random() > self.p:\n",
    "            return image\n",
    "        \n",
    "        width, height = image.size\n",
    "        curr_min_width = int(width * self.min_size_ratio)\n",
    "        curr_max_width = int(width * self.max_size_ratio)\n",
    "        \n",
    "        curr_min_height = int(height * self.min_size_ratio)\n",
    "        curr_max_height = int(height * self.max_size_ratio)\n",
    "\n",
    "        occlusion_width = random.randint(curr_min_width, curr_max_width)\n",
    "        occlusion_height = random.randint(curr_min_height, curr_max_height)\n",
    "\n",
    "        # Position\n",
    "        x = random.randint(0, width - occlusion_width)\n",
    "        y = random.randint(0, height - occlusion_height)\n",
    "\n",
    "        mask = Image.new('RGB', (occlusion_width, occlusion_height), (0, 0, 0)) # Occlussion color\n",
    "        image.paste(mask, (x, y))\n",
    "        return image"
   ]
  },
  {
   "cell_type": "code",
   "execution_count": 14,
   "id": "2e952ecf",
   "metadata": {
    "execution": {
     "iopub.execute_input": "2024-04-16T18:58:07.281110Z",
     "iopub.status.busy": "2024-04-16T18:58:07.280844Z",
     "iopub.status.idle": "2024-04-16T18:58:07.286434Z",
     "shell.execute_reply": "2024-04-16T18:58:07.285730Z"
    },
    "papermill": {
     "duration": 0.017795,
     "end_time": "2024-04-16T18:58:07.288207",
     "exception": false,
     "start_time": "2024-04-16T18:58:07.270412",
     "status": "completed"
    },
    "tags": []
   },
   "outputs": [],
   "source": [
    "transform = transforms.Compose([\n",
    "    transforms.Resize((processor.size[\"height\"], processor.size[\"width\"])),\n",
    "    transforms.RandomResizedCrop(224),\n",
    "    transforms.RandomHorizontalFlip(),\n",
    "    # RandomOcclusion(p=0.5, min_size_ratio=0.05, max_size_ratio=0.50),\n",
    "    transforms.RandomRotation(degrees=(-30, 30)),\n",
    "    transforms.ColorJitter(brightness=0.2, contrast=0.2, saturation=0.2, hue=0.1),\n",
    "    transforms.ToTensor(),\n",
    "    # transforms.Normalize(mean=processor.image_mean, std=processor.image_std)\n",
    "])"
   ]
  },
  {
   "cell_type": "code",
   "execution_count": 15,
   "id": "cbaadfb5",
   "metadata": {
    "execution": {
     "iopub.execute_input": "2024-04-16T18:58:07.308641Z",
     "iopub.status.busy": "2024-04-16T18:58:07.308346Z",
     "iopub.status.idle": "2024-04-16T18:58:29.122790Z",
     "shell.execute_reply": "2024-04-16T18:58:29.121961Z"
    },
    "papermill": {
     "duration": 21.827337,
     "end_time": "2024-04-16T18:58:29.125206",
     "exception": false,
     "start_time": "2024-04-16T18:58:07.297869",
     "status": "completed"
    },
    "tags": []
   },
   "outputs": [],
   "source": [
    "h_dataset = CustomImageFolderDataset(root=IMG_PATH, processor=processor)"
   ]
  },
  {
   "cell_type": "code",
   "execution_count": 16,
   "id": "264c96d1",
   "metadata": {
    "execution": {
     "iopub.execute_input": "2024-04-16T18:58:29.146803Z",
     "iopub.status.busy": "2024-04-16T18:58:29.145999Z",
     "iopub.status.idle": "2024-04-16T18:58:29.150267Z",
     "shell.execute_reply": "2024-04-16T18:58:29.149401Z"
    },
    "papermill": {
     "duration": 0.017046,
     "end_time": "2024-04-16T18:58:29.152353",
     "exception": false,
     "start_time": "2024-04-16T18:58:29.135307",
     "status": "completed"
    },
    "tags": []
   },
   "outputs": [],
   "source": [
    "train_ratio = 0.7\n",
    "val_ratio = 0.10\n",
    "test_ratio = 0.20"
   ]
  },
  {
   "cell_type": "code",
   "execution_count": 17,
   "id": "17ecf27c",
   "metadata": {
    "execution": {
     "iopub.execute_input": "2024-04-16T18:58:29.172694Z",
     "iopub.status.busy": "2024-04-16T18:58:29.172370Z",
     "iopub.status.idle": "2024-04-16T18:58:29.176831Z",
     "shell.execute_reply": "2024-04-16T18:58:29.176018Z"
    },
    "papermill": {
     "duration": 0.016642,
     "end_time": "2024-04-16T18:58:29.178648",
     "exception": false,
     "start_time": "2024-04-16T18:58:29.162006",
     "status": "completed"
    },
    "tags": []
   },
   "outputs": [],
   "source": [
    "total_size = len(h_dataset)\n",
    "train_size = int(train_ratio * total_size)\n",
    "val_size = int(val_ratio * total_size)\n",
    "test_size = total_size - train_size - val_size"
   ]
  },
  {
   "cell_type": "code",
   "execution_count": 18,
   "id": "62be8bcb",
   "metadata": {
    "execution": {
     "iopub.execute_input": "2024-04-16T18:58:29.200617Z",
     "iopub.status.busy": "2024-04-16T18:58:29.200333Z",
     "iopub.status.idle": "2024-04-16T18:58:29.223906Z",
     "shell.execute_reply": "2024-04-16T18:58:29.223242Z"
    },
    "papermill": {
     "duration": 0.037061,
     "end_time": "2024-04-16T18:58:29.225752",
     "exception": false,
     "start_time": "2024-04-16T18:58:29.188691",
     "status": "completed"
    },
    "tags": []
   },
   "outputs": [],
   "source": [
    "train_ds, val_ds, test_ds = random_split(h_dataset, [train_size, val_size, test_size])"
   ]
  },
  {
   "cell_type": "code",
   "execution_count": 19,
   "id": "20df6a02",
   "metadata": {
    "execution": {
     "iopub.execute_input": "2024-04-16T18:58:29.246978Z",
     "iopub.status.busy": "2024-04-16T18:58:29.246702Z",
     "iopub.status.idle": "2024-04-16T18:58:29.250576Z",
     "shell.execute_reply": "2024-04-16T18:58:29.249813Z"
    },
    "papermill": {
     "duration": 0.016436,
     "end_time": "2024-04-16T18:58:29.252487",
     "exception": false,
     "start_time": "2024-04-16T18:58:29.236051",
     "status": "completed"
    },
    "tags": []
   },
   "outputs": [],
   "source": [
    "train_ds.transform = transform\n",
    "val_ds.transform = None\n",
    "test_ds.transform = None"
   ]
  },
  {
   "cell_type": "code",
   "execution_count": 20,
   "id": "8e646bba",
   "metadata": {
    "execution": {
     "iopub.execute_input": "2024-04-16T18:58:29.273061Z",
     "iopub.status.busy": "2024-04-16T18:58:29.272793Z",
     "iopub.status.idle": "2024-04-16T18:58:29.277329Z",
     "shell.execute_reply": "2024-04-16T18:58:29.276506Z"
    },
    "papermill": {
     "duration": 0.017178,
     "end_time": "2024-04-16T18:58:29.279377",
     "exception": false,
     "start_time": "2024-04-16T18:58:29.262199",
     "status": "completed"
    },
    "tags": []
   },
   "outputs": [
    {
     "name": "stdout",
     "output_type": "stream",
     "text": [
      "Train size: 31291 | 31291\n",
      "Val size: 4470 | 4470\n",
      "Test size: 8941 | 8941\n"
     ]
    }
   ],
   "source": [
    "print(f'Train size: {len(train_ds)} | {train_size}')\n",
    "print(f'Val size: {len(val_ds)} | {val_size}')\n",
    "print(f'Test size: {len(test_ds)} | {test_size}')"
   ]
  },
  {
   "cell_type": "markdown",
   "id": "ffc32ffa",
   "metadata": {
    "papermill": {
     "duration": 0.009399,
     "end_time": "2024-04-16T18:58:29.298685",
     "exception": false,
     "start_time": "2024-04-16T18:58:29.289286",
     "status": "completed"
    },
    "tags": []
   },
   "source": [
    "### Create and train model"
   ]
  },
  {
   "cell_type": "code",
   "execution_count": 21,
   "id": "5bcb2313",
   "metadata": {
    "execution": {
     "iopub.execute_input": "2024-04-16T18:58:29.319111Z",
     "iopub.status.busy": "2024-04-16T18:58:29.318831Z",
     "iopub.status.idle": "2024-04-16T18:58:29.323461Z",
     "shell.execute_reply": "2024-04-16T18:58:29.322734Z"
    },
    "papermill": {
     "duration": 0.017072,
     "end_time": "2024-04-16T18:58:29.325333",
     "exception": false,
     "start_time": "2024-04-16T18:58:29.308261",
     "status": "completed"
    },
    "tags": []
   },
   "outputs": [],
   "source": [
    "def collate_fn(batch):\n",
    "    return {\n",
    "        'pixel_values': torch.stack([x['pixel_values'] for x in batch]),\n",
    "        'labels': torch.tensor([x['labels'] for x in batch])\n",
    "    }"
   ]
  },
  {
   "cell_type": "code",
   "execution_count": 22,
   "id": "74cb28c4",
   "metadata": {
    "execution": {
     "iopub.execute_input": "2024-04-16T18:58:29.346221Z",
     "iopub.status.busy": "2024-04-16T18:58:29.345960Z",
     "iopub.status.idle": "2024-04-16T18:58:29.356220Z",
     "shell.execute_reply": "2024-04-16T18:58:29.355494Z"
    },
    "papermill": {
     "duration": 0.022699,
     "end_time": "2024-04-16T18:58:29.358074",
     "exception": false,
     "start_time": "2024-04-16T18:58:29.335375",
     "status": "completed"
    },
    "tags": []
   },
   "outputs": [],
   "source": [
    "def compute_acc(prob_preds, labels, k):\n",
    "    y = np.repeat([labels], repeats=k, axis=0).T\n",
    "    # Sort and get top k preds\n",
    "    preds = np.argsort(-np.array(prob_preds), axis=1)[:, :k]\n",
    "    # Check if any of top k predictions are correct and calculate mean accuracy\n",
    "    topk_acc = (preds == y).any(axis=1).mean()\n",
    "    return topk_acc\n",
    "\n",
    "def compute_map(prob_preds, labels, k):\n",
    "    # Sort and get top k preds\n",
    "    preds = np.argsort(-np.array(prob_preds), axis=1)[:, :k]\n",
    "    # Mat where each row contains the correct label repeated k times\n",
    "    # labels = np.array(labels)\n",
    "    # y = np.repeat(labels[:, np.newaxis], k, axis=1)\n",
    "    y = np.repeat([labels], repeats=k, axis=0).T\n",
    "    # Get rank (1-indexed later)\n",
    "    qry = np.where(preds == y)\n",
    "    ranks_0b = qry[1]\n",
    "    # Get precision only where the correct label appears in the preds top-k\n",
    "    precisions = np.zeros(len(labels))\n",
    "    if len(ranks_0b) > 0:\n",
    "        # Calculate the precision for each instance where the correct label is found\n",
    "        precisions[qry[0]] = 1 / (ranks_0b + 1)\n",
    "    map_at_k = np.mean(precisions)\n",
    "    return map_at_k\n",
    "\n",
    "\n",
    "def compute_metrics(p):\n",
    "    prob_preds = p.predictions\n",
    "    return {\n",
    "        'topk_acc_at_5': compute_acc(prob_preds, p.label_ids, k=5),\n",
    "        'topk_acc_at_10': compute_acc(prob_preds, p.label_ids, k=10),\n",
    "        'topk_acc_at_100': compute_acc(prob_preds, p.label_ids, k=100),\n",
    "        'map_at_5': compute_map(prob_preds, p.label_ids, k=5),\n",
    "        'map_at_50': compute_map(prob_preds, p.label_ids, k=50),\n",
    "        'map_at_100': compute_map(prob_preds, p.label_ids, k=100),\n",
    "    }"
   ]
  },
  {
   "cell_type": "code",
   "execution_count": 23,
   "id": "5e4f0443",
   "metadata": {
    "execution": {
     "iopub.execute_input": "2024-04-16T18:58:29.378927Z",
     "iopub.status.busy": "2024-04-16T18:58:29.378645Z",
     "iopub.status.idle": "2024-04-16T18:58:38.921834Z",
     "shell.execute_reply": "2024-04-16T18:58:38.920900Z"
    },
    "papermill": {
     "duration": 9.555873,
     "end_time": "2024-04-16T18:58:38.924087",
     "exception": false,
     "start_time": "2024-04-16T18:58:29.368214",
     "status": "completed"
    },
    "tags": []
   },
   "outputs": [
    {
     "data": {
      "application/vnd.jupyter.widget-view+json": {
       "model_id": "2eb87d459c6140b18fb6a18af0d10b78",
       "version_major": 2,
       "version_minor": 0
      },
      "text/plain": [
       "config.json:   0%|          | 0.00/502 [00:00<?, ?B/s]"
      ]
     },
     "metadata": {},
     "output_type": "display_data"
    },
    {
     "data": {
      "application/vnd.jupyter.widget-view+json": {
       "model_id": "fa75b5bbbbbb47168f4344cb60d817c8",
       "version_major": 2,
       "version_minor": 0
      },
      "text/plain": [
       "model.safetensors:   0%|          | 0.00/346M [00:00<?, ?B/s]"
      ]
     },
     "metadata": {},
     "output_type": "display_data"
    },
    {
     "name": "stderr",
     "output_type": "stream",
     "text": [
      "Some weights of ViTForImageClassification were not initialized from the model checkpoint at google/vit-base-patch16-224-in21k and are newly initialized: ['classifier.bias', 'classifier.weight']\n",
      "You should probably TRAIN this model on a down-stream task to be able to use it for predictions and inference.\n"
     ]
    }
   ],
   "source": [
    "model = ViTForImageClassification.from_pretrained(\n",
    "    model_name_or_path,\n",
    "    num_labels=total_classes,\n",
    "    id2label=h_dataset.id2label,\n",
    "    label2id=h_dataset.label2id\n",
    ")"
   ]
  },
  {
   "cell_type": "code",
   "execution_count": 24,
   "id": "59dc5e9d",
   "metadata": {
    "execution": {
     "iopub.execute_input": "2024-04-16T18:58:38.947244Z",
     "iopub.status.busy": "2024-04-16T18:58:38.946935Z",
     "iopub.status.idle": "2024-04-16T18:58:39.764091Z",
     "shell.execute_reply": "2024-04-16T18:58:39.763193Z"
    },
    "papermill": {
     "duration": 0.831073,
     "end_time": "2024-04-16T18:58:39.766219",
     "exception": false,
     "start_time": "2024-04-16T18:58:38.935146",
     "status": "completed"
    },
    "tags": []
   },
   "outputs": [
    {
     "data": {
      "text/plain": [
       "===========================================================================================================================================================\n",
       "Layer (type:depth-idx)                                  Input Shape               Output Shape              Param #                   Trainable\n",
       "===========================================================================================================================================================\n",
       "ViTForImageClassification                               [1, 3, 224, 224]          [1, 3116]                 --                        True\n",
       "├─ViTModel: 1-1                                         [1, 3, 224, 224]          [1, 197, 768]             --                        True\n",
       "│    └─ViTEmbeddings: 2-1                               [1, 3, 224, 224]          [1, 197, 768]             152,064                   True\n",
       "│    │    └─ViTPatchEmbeddings: 3-1                     [1, 3, 224, 224]          [1, 196, 768]             590,592                   True\n",
       "│    │    └─Dropout: 3-2                                [1, 197, 768]             [1, 197, 768]             --                        --\n",
       "│    └─ViTEncoder: 2-2                                  [1, 197, 768]             [1, 197, 768]             --                        True\n",
       "│    │    └─ModuleList: 3-3                             --                        --                        85,054,464                True\n",
       "│    └─LayerNorm: 2-3                                   [1, 197, 768]             [1, 197, 768]             1,536                     True\n",
       "├─Linear: 1-2                                           [1, 768]                  [1, 3116]                 2,396,204                 True\n",
       "===========================================================================================================================================================\n",
       "Total params: 88,194,860\n",
       "Trainable params: 88,194,860\n",
       "Non-trainable params: 0\n",
       "Total mult-adds (M): 203.21\n",
       "===========================================================================================================================================================\n",
       "Input size (MB): 0.60\n",
       "Forward/backward pass size (MB): 162.21\n",
       "Params size (MB): 352.17\n",
       "Estimated Total Size (MB): 514.98\n",
       "==========================================================================================================================================================="
      ]
     },
     "execution_count": 24,
     "metadata": {},
     "output_type": "execute_result"
    }
   ],
   "source": [
    "summary(model=model, input_size=(1, 3, 224, 224), col_names=['input_size', 'output_size', 'num_params', 'trainable'])"
   ]
  },
  {
   "cell_type": "code",
   "execution_count": 25,
   "id": "5189d896",
   "metadata": {
    "execution": {
     "iopub.execute_input": "2024-04-16T18:58:39.789178Z",
     "iopub.status.busy": "2024-04-16T18:58:39.788488Z",
     "iopub.status.idle": "2024-04-16T18:58:39.795398Z",
     "shell.execute_reply": "2024-04-16T18:58:39.794641Z"
    },
    "papermill": {
     "duration": 0.020249,
     "end_time": "2024-04-16T18:58:39.797296",
     "exception": false,
     "start_time": "2024-04-16T18:58:39.777047",
     "status": "completed"
    },
    "tags": []
   },
   "outputs": [],
   "source": [
    "training_args = TrainingArguments(\n",
    "    output_dir='/kaggle/working/vit-hid',\n",
    "    per_device_train_batch_size=128,\n",
    "    per_device_eval_batch_size=128,\n",
    "    evaluation_strategy='steps',\n",
    "    num_train_epochs=8,\n",
    "    fp16=True,\n",
    "    save_steps=120,\n",
    "    eval_steps=120,\n",
    "    logging_steps=10,\n",
    "    learning_rate=2e-3,\n",
    "    save_total_limit=2,\n",
    "    remove_unused_columns=False,\n",
    "    push_to_hub=False,\n",
    "    report_to='wandb',\n",
    "    run_name='vit-run-kg-fl-04',\n",
    "    load_best_model_at_end=True,\n",
    "    metric_for_best_model='map_at_5',\n",
    "    greater_is_better=True,\n",
    ")"
   ]
  },
  {
   "cell_type": "code",
   "execution_count": 26,
   "id": "1e426705",
   "metadata": {
    "execution": {
     "iopub.execute_input": "2024-04-16T18:58:39.819675Z",
     "iopub.status.busy": "2024-04-16T18:58:39.819393Z",
     "iopub.status.idle": "2024-04-16T18:58:39.835601Z",
     "shell.execute_reply": "2024-04-16T18:58:39.834808Z"
    },
    "papermill": {
     "duration": 0.02978,
     "end_time": "2024-04-16T18:58:39.837573",
     "exception": false,
     "start_time": "2024-04-16T18:58:39.807793",
     "status": "completed"
    },
    "tags": []
   },
   "outputs": [
    {
     "name": "stderr",
     "output_type": "stream",
     "text": [
      "/opt/conda/lib/python3.10/site-packages/accelerate/accelerator.py:432: FutureWarning: Passing the following arguments to `Accelerator` is deprecated and will be removed in version 1.0 of Accelerate: dict_keys(['dispatch_batches', 'split_batches', 'even_batches', 'use_seedable_sampler']). Please pass an `accelerate.DataLoaderConfiguration` instead: \n",
      "dataloader_config = DataLoaderConfiguration(dispatch_batches=None, split_batches=False, even_batches=True, use_seedable_sampler=True)\n",
      "  warnings.warn(\n"
     ]
    }
   ],
   "source": [
    "trainer = Trainer(\n",
    "    model=model,\n",
    "    args=training_args,\n",
    "    data_collator=collate_fn,\n",
    "    compute_metrics=compute_metrics,\n",
    "    train_dataset=train_ds,\n",
    "    eval_dataset=val_ds,\n",
    "    tokenizer=processor,\n",
    ")"
   ]
  },
  {
   "cell_type": "code",
   "execution_count": 27,
   "id": "61800bbd",
   "metadata": {
    "execution": {
     "iopub.execute_input": "2024-04-16T18:58:39.860247Z",
     "iopub.status.busy": "2024-04-16T18:58:39.859975Z",
     "iopub.status.idle": "2024-04-17T02:07:45.295812Z",
     "shell.execute_reply": "2024-04-17T02:07:45.294487Z"
    },
    "papermill": {
     "duration": 25745.45005,
     "end_time": "2024-04-17T02:07:45.298111",
     "exception": false,
     "start_time": "2024-04-16T18:58:39.848061",
     "status": "completed"
    },
    "tags": []
   },
   "outputs": [
    {
     "name": "stderr",
     "output_type": "stream",
     "text": [
      "\u001b[34m\u001b[1mwandb\u001b[0m: \u001b[33mWARNING\u001b[0m Changes to your `wandb` environment variables will be ignored because your `wandb` session has already started. For more information on how to modify your settings with `wandb.init()` arguments, please refer to \u001b[34m\u001b[4mhttps://wandb.me/wandb-init\u001b[0m.\n",
      "\u001b[34m\u001b[1mwandb\u001b[0m: Currently logged in as: \u001b[33mart-av-ch-1\u001b[0m. Use \u001b[1m`wandb login --relogin`\u001b[0m to force relogin\n",
      "\u001b[34m\u001b[1mwandb\u001b[0m: wandb version 0.16.6 is available!  To upgrade, please run:\n",
      "\u001b[34m\u001b[1mwandb\u001b[0m:  $ pip install wandb --upgrade\n",
      "\u001b[34m\u001b[1mwandb\u001b[0m: Tracking run with wandb version 0.16.5\n",
      "\u001b[34m\u001b[1mwandb\u001b[0m: Run data is saved locally in \u001b[35m\u001b[1m/kaggle/working/wandb/run-20240416_185840-cbhyzeym\u001b[0m\n",
      "\u001b[34m\u001b[1mwandb\u001b[0m: Run \u001b[1m`wandb offline`\u001b[0m to turn off syncing.\n",
      "\u001b[34m\u001b[1mwandb\u001b[0m: Syncing run \u001b[33mvit-run-kg-fl-04\u001b[0m\n",
      "\u001b[34m\u001b[1mwandb\u001b[0m: ⭐️ View project at \u001b[34m\u001b[4mhttps://wandb.ai/art-av-ch-1/hotel-id-vit-v1\u001b[0m\n",
      "\u001b[34m\u001b[1mwandb\u001b[0m: 🚀 View run at \u001b[34m\u001b[4mhttps://wandb.ai/art-av-ch-1/hotel-id-vit-v1/runs/cbhyzeym/workspace\u001b[0m\n",
      "\u001b[34m\u001b[1mwandb\u001b[0m: \u001b[33mWARNING\u001b[0m Serializing object of type dict that is 147552 bytes\n",
      "\u001b[34m\u001b[1mwandb\u001b[0m: \u001b[33mWARNING\u001b[0m Serializing object of type dict that is 147552 bytes\n"
     ]
    },
    {
     "data": {
      "text/html": [
       "\n",
       "    <div>\n",
       "      \n",
       "      <progress value='1960' max='1960' style='width:300px; height:20px; vertical-align: middle;'></progress>\n",
       "      [1960/1960 7:08:25, Epoch 8/8]\n",
       "    </div>\n",
       "    <table border=\"1\" class=\"dataframe\">\n",
       "  <thead>\n",
       " <tr style=\"text-align: left;\">\n",
       "      <th>Step</th>\n",
       "      <th>Training Loss</th>\n",
       "      <th>Validation Loss</th>\n",
       "      <th>Topk Acc At 5</th>\n",
       "      <th>Topk Acc At 10</th>\n",
       "      <th>Topk Acc At 100</th>\n",
       "      <th>Map At 5</th>\n",
       "      <th>Map At 50</th>\n",
       "      <th>Map At 100</th>\n",
       "    </tr>\n",
       "  </thead>\n",
       "  <tbody>\n",
       "    <tr>\n",
       "      <td>120</td>\n",
       "      <td>7.546600</td>\n",
       "      <td>7.579098</td>\n",
       "      <td>0.086353</td>\n",
       "      <td>0.123714</td>\n",
       "      <td>0.240940</td>\n",
       "      <td>0.049713</td>\n",
       "      <td>0.058627</td>\n",
       "      <td>0.059209</td>\n",
       "    </tr>\n",
       "    <tr>\n",
       "      <td>240</td>\n",
       "      <td>7.477800</td>\n",
       "      <td>7.509267</td>\n",
       "      <td>0.085906</td>\n",
       "      <td>0.125503</td>\n",
       "      <td>0.246532</td>\n",
       "      <td>0.049623</td>\n",
       "      <td>0.058417</td>\n",
       "      <td>0.059162</td>\n",
       "    </tr>\n",
       "    <tr>\n",
       "      <td>360</td>\n",
       "      <td>7.426600</td>\n",
       "      <td>7.532063</td>\n",
       "      <td>0.087248</td>\n",
       "      <td>0.128859</td>\n",
       "      <td>0.244519</td>\n",
       "      <td>0.049575</td>\n",
       "      <td>0.058678</td>\n",
       "      <td>0.059292</td>\n",
       "    </tr>\n",
       "    <tr>\n",
       "      <td>480</td>\n",
       "      <td>7.489100</td>\n",
       "      <td>7.474282</td>\n",
       "      <td>0.087248</td>\n",
       "      <td>0.127740</td>\n",
       "      <td>0.252125</td>\n",
       "      <td>0.050712</td>\n",
       "      <td>0.059706</td>\n",
       "      <td>0.060395</td>\n",
       "    </tr>\n",
       "    <tr>\n",
       "      <td>600</td>\n",
       "      <td>7.435300</td>\n",
       "      <td>7.453968</td>\n",
       "      <td>0.084564</td>\n",
       "      <td>0.131767</td>\n",
       "      <td>0.258613</td>\n",
       "      <td>0.049131</td>\n",
       "      <td>0.058916</td>\n",
       "      <td>0.059621</td>\n",
       "    </tr>\n",
       "    <tr>\n",
       "      <td>720</td>\n",
       "      <td>7.328600</td>\n",
       "      <td>7.405352</td>\n",
       "      <td>0.093736</td>\n",
       "      <td>0.134676</td>\n",
       "      <td>0.260850</td>\n",
       "      <td>0.052468</td>\n",
       "      <td>0.061627</td>\n",
       "      <td>0.062354</td>\n",
       "    </tr>\n",
       "    <tr>\n",
       "      <td>840</td>\n",
       "      <td>7.251800</td>\n",
       "      <td>7.382185</td>\n",
       "      <td>0.099553</td>\n",
       "      <td>0.139597</td>\n",
       "      <td>0.270470</td>\n",
       "      <td>0.055567</td>\n",
       "      <td>0.064282</td>\n",
       "      <td>0.065081</td>\n",
       "    </tr>\n",
       "    <tr>\n",
       "      <td>960</td>\n",
       "      <td>7.211700</td>\n",
       "      <td>7.363597</td>\n",
       "      <td>0.104474</td>\n",
       "      <td>0.137584</td>\n",
       "      <td>0.269128</td>\n",
       "      <td>0.063826</td>\n",
       "      <td>0.071604</td>\n",
       "      <td>0.072422</td>\n",
       "    </tr>\n",
       "    <tr>\n",
       "      <td>1080</td>\n",
       "      <td>7.169200</td>\n",
       "      <td>7.330328</td>\n",
       "      <td>0.106711</td>\n",
       "      <td>0.142729</td>\n",
       "      <td>0.277405</td>\n",
       "      <td>0.062040</td>\n",
       "      <td>0.070330</td>\n",
       "      <td>0.071127</td>\n",
       "    </tr>\n",
       "    <tr>\n",
       "      <td>1200</td>\n",
       "      <td>7.109400</td>\n",
       "      <td>7.251625</td>\n",
       "      <td>0.114541</td>\n",
       "      <td>0.144966</td>\n",
       "      <td>0.289038</td>\n",
       "      <td>0.069150</td>\n",
       "      <td>0.077166</td>\n",
       "      <td>0.077984</td>\n",
       "    </tr>\n",
       "    <tr>\n",
       "      <td>1320</td>\n",
       "      <td>6.987900</td>\n",
       "      <td>7.210470</td>\n",
       "      <td>0.118568</td>\n",
       "      <td>0.150783</td>\n",
       "      <td>0.299329</td>\n",
       "      <td>0.073352</td>\n",
       "      <td>0.081306</td>\n",
       "      <td>0.082237</td>\n",
       "    </tr>\n",
       "    <tr>\n",
       "      <td>1440</td>\n",
       "      <td>6.964600</td>\n",
       "      <td>7.145483</td>\n",
       "      <td>0.126622</td>\n",
       "      <td>0.154139</td>\n",
       "      <td>0.311409</td>\n",
       "      <td>0.079567</td>\n",
       "      <td>0.087312</td>\n",
       "      <td>0.088259</td>\n",
       "    </tr>\n",
       "    <tr>\n",
       "      <td>1560</td>\n",
       "      <td>6.754600</td>\n",
       "      <td>7.169218</td>\n",
       "      <td>0.127517</td>\n",
       "      <td>0.153244</td>\n",
       "      <td>0.305369</td>\n",
       "      <td>0.082938</td>\n",
       "      <td>0.090172</td>\n",
       "      <td>0.091108</td>\n",
       "    </tr>\n",
       "    <tr>\n",
       "      <td>1680</td>\n",
       "      <td>6.688700</td>\n",
       "      <td>7.071755</td>\n",
       "      <td>0.134228</td>\n",
       "      <td>0.162192</td>\n",
       "      <td>0.321029</td>\n",
       "      <td>0.089963</td>\n",
       "      <td>0.097859</td>\n",
       "      <td>0.098763</td>\n",
       "    </tr>\n",
       "    <tr>\n",
       "      <td>1800</td>\n",
       "      <td>6.574000</td>\n",
       "      <td>7.050545</td>\n",
       "      <td>0.137584</td>\n",
       "      <td>0.166443</td>\n",
       "      <td>0.324385</td>\n",
       "      <td>0.096264</td>\n",
       "      <td>0.104154</td>\n",
       "      <td>0.105085</td>\n",
       "    </tr>\n",
       "    <tr>\n",
       "      <td>1920</td>\n",
       "      <td>6.532100</td>\n",
       "      <td>7.033926</td>\n",
       "      <td>0.140940</td>\n",
       "      <td>0.165996</td>\n",
       "      <td>0.329978</td>\n",
       "      <td>0.096782</td>\n",
       "      <td>0.104693</td>\n",
       "      <td>0.105584</td>\n",
       "    </tr>\n",
       "  </tbody>\n",
       "</table><p>"
      ],
      "text/plain": [
       "<IPython.core.display.HTML object>"
      ]
     },
     "metadata": {},
     "output_type": "display_data"
    },
    {
     "name": "stderr",
     "output_type": "stream",
     "text": [
      "\u001b[34m\u001b[1mwandb\u001b[0m: Adding directory to artifact (/kaggle/working/vit-hid/checkpoint-120)... Done. 3.0s\n",
      "\u001b[34m\u001b[1mwandb\u001b[0m: \u001b[33mWARNING\u001b[0m Serializing object of type dict that is 147552 bytes\n",
      "\u001b[34m\u001b[1mwandb\u001b[0m: \u001b[33mWARNING\u001b[0m Serializing object of type dict that is 147552 bytes\n",
      "\u001b[34m\u001b[1mwandb\u001b[0m: Adding directory to artifact (/kaggle/working/vit-hid/checkpoint-240)... Done. 2.9s\n",
      "\u001b[34m\u001b[1mwandb\u001b[0m: \u001b[33mWARNING\u001b[0m Serializing object of type dict that is 147552 bytes\n",
      "\u001b[34m\u001b[1mwandb\u001b[0m: \u001b[33mWARNING\u001b[0m Serializing object of type dict that is 147552 bytes\n",
      "\u001b[34m\u001b[1mwandb\u001b[0m: Adding directory to artifact (/kaggle/working/vit-hid/checkpoint-360)... Done. 3.2s\n",
      "\u001b[34m\u001b[1mwandb\u001b[0m: \u001b[33mWARNING\u001b[0m Serializing object of type dict that is 147552 bytes\n",
      "\u001b[34m\u001b[1mwandb\u001b[0m: \u001b[33mWARNING\u001b[0m Serializing object of type dict that is 147552 bytes\n",
      "\u001b[34m\u001b[1mwandb\u001b[0m: Adding directory to artifact (/kaggle/working/vit-hid/checkpoint-480)... Done. 3.1s\n",
      "\u001b[34m\u001b[1mwandb\u001b[0m: \u001b[33mWARNING\u001b[0m Serializing object of type dict that is 147552 bytes\n",
      "\u001b[34m\u001b[1mwandb\u001b[0m: \u001b[33mWARNING\u001b[0m Serializing object of type dict that is 147552 bytes\n",
      "\u001b[34m\u001b[1mwandb\u001b[0m: Adding directory to artifact (/kaggle/working/vit-hid/checkpoint-600)... Done. 3.0s\n",
      "\u001b[34m\u001b[1mwandb\u001b[0m: \u001b[33mWARNING\u001b[0m Serializing object of type dict that is 147552 bytes\n",
      "\u001b[34m\u001b[1mwandb\u001b[0m: \u001b[33mWARNING\u001b[0m Serializing object of type dict that is 147552 bytes\n",
      "\u001b[34m\u001b[1mwandb\u001b[0m: Adding directory to artifact (/kaggle/working/vit-hid/checkpoint-720)... Done. 2.8s\n",
      "\u001b[34m\u001b[1mwandb\u001b[0m: \u001b[33mWARNING\u001b[0m Serializing object of type dict that is 147552 bytes\n",
      "\u001b[34m\u001b[1mwandb\u001b[0m: \u001b[33mWARNING\u001b[0m Serializing object of type dict that is 147552 bytes\n",
      "\u001b[34m\u001b[1mwandb\u001b[0m: Adding directory to artifact (/kaggle/working/vit-hid/checkpoint-840)... Done. 2.6s\n",
      "\u001b[34m\u001b[1mwandb\u001b[0m: \u001b[33mWARNING\u001b[0m Serializing object of type dict that is 147552 bytes\n",
      "\u001b[34m\u001b[1mwandb\u001b[0m: \u001b[33mWARNING\u001b[0m Serializing object of type dict that is 147552 bytes\n",
      "\u001b[34m\u001b[1mwandb\u001b[0m: Adding directory to artifact (/kaggle/working/vit-hid/checkpoint-960)... Done. 3.2s\n",
      "\u001b[34m\u001b[1mwandb\u001b[0m: \u001b[33mWARNING\u001b[0m Serializing object of type dict that is 147552 bytes\n",
      "\u001b[34m\u001b[1mwandb\u001b[0m: \u001b[33mWARNING\u001b[0m Serializing object of type dict that is 147552 bytes\n",
      "\u001b[34m\u001b[1mwandb\u001b[0m: Adding directory to artifact (/kaggle/working/vit-hid/checkpoint-1080)... Done. 3.1s\n",
      "\u001b[34m\u001b[1mwandb\u001b[0m: \u001b[33mWARNING\u001b[0m Serializing object of type dict that is 147552 bytes\n",
      "\u001b[34m\u001b[1mwandb\u001b[0m: \u001b[33mWARNING\u001b[0m Serializing object of type dict that is 147552 bytes\n",
      "\u001b[34m\u001b[1mwandb\u001b[0m: Adding directory to artifact (/kaggle/working/vit-hid/checkpoint-1200)... Done. 3.1s\n",
      "\u001b[34m\u001b[1mwandb\u001b[0m: \u001b[33mWARNING\u001b[0m Serializing object of type dict that is 147552 bytes\n",
      "\u001b[34m\u001b[1mwandb\u001b[0m: \u001b[33mWARNING\u001b[0m Serializing object of type dict that is 147552 bytes\n",
      "\u001b[34m\u001b[1mwandb\u001b[0m: Adding directory to artifact (/kaggle/working/vit-hid/checkpoint-1320)... Done. 3.2s\n",
      "\u001b[34m\u001b[1mwandb\u001b[0m: \u001b[33mWARNING\u001b[0m Serializing object of type dict that is 147552 bytes\n",
      "\u001b[34m\u001b[1mwandb\u001b[0m: \u001b[33mWARNING\u001b[0m Serializing object of type dict that is 147552 bytes\n",
      "\u001b[34m\u001b[1mwandb\u001b[0m: Adding directory to artifact (/kaggle/working/vit-hid/checkpoint-1440)... Done. 3.2s\n",
      "\u001b[34m\u001b[1mwandb\u001b[0m: \u001b[33mWARNING\u001b[0m Serializing object of type dict that is 147552 bytes\n",
      "\u001b[34m\u001b[1mwandb\u001b[0m: \u001b[33mWARNING\u001b[0m Serializing object of type dict that is 147552 bytes\n",
      "\u001b[34m\u001b[1mwandb\u001b[0m: Adding directory to artifact (/kaggle/working/vit-hid/checkpoint-1560)... Done. 3.2s\n",
      "\u001b[34m\u001b[1mwandb\u001b[0m: \u001b[33mWARNING\u001b[0m Serializing object of type dict that is 147552 bytes\n",
      "\u001b[34m\u001b[1mwandb\u001b[0m: \u001b[33mWARNING\u001b[0m Serializing object of type dict that is 147552 bytes\n",
      "\u001b[34m\u001b[1mwandb\u001b[0m: Adding directory to artifact (/kaggle/working/vit-hid/checkpoint-1680)... Done. 3.1s\n",
      "\u001b[34m\u001b[1mwandb\u001b[0m: \u001b[33mWARNING\u001b[0m Serializing object of type dict that is 147552 bytes\n",
      "\u001b[34m\u001b[1mwandb\u001b[0m: \u001b[33mWARNING\u001b[0m Serializing object of type dict that is 147552 bytes\n",
      "\u001b[34m\u001b[1mwandb\u001b[0m: Adding directory to artifact (/kaggle/working/vit-hid/checkpoint-1800)... Done. 3.1s\n",
      "\u001b[34m\u001b[1mwandb\u001b[0m: \u001b[33mWARNING\u001b[0m Serializing object of type dict that is 147552 bytes\n",
      "\u001b[34m\u001b[1mwandb\u001b[0m: \u001b[33mWARNING\u001b[0m Serializing object of type dict that is 147552 bytes\n",
      "\u001b[34m\u001b[1mwandb\u001b[0m: Adding directory to artifact (/kaggle/working/vit-hid/checkpoint-1920)... Done. 3.1s\n",
      "\u001b[34m\u001b[1mwandb\u001b[0m: \u001b[33mWARNING\u001b[0m Serializing object of type dict that is 147552 bytes\n",
      "\u001b[34m\u001b[1mwandb\u001b[0m: \u001b[33mWARNING\u001b[0m Serializing object of type dict that is 147552 bytes\n",
      "/opt/conda/lib/python3.10/site-packages/accelerate/accelerator.py:432: FutureWarning: Passing the following arguments to `Accelerator` is deprecated and will be removed in version 1.0 of Accelerate: dict_keys(['dispatch_batches', 'split_batches', 'even_batches', 'use_seedable_sampler']). Please pass an `accelerate.DataLoaderConfiguration` instead: \n",
      "dataloader_config = DataLoaderConfiguration(dispatch_batches=None, split_batches=False, even_batches=True, use_seedable_sampler=True)\n",
      "  warnings.warn(\n",
      "\u001b[34m\u001b[1mwandb\u001b[0m: \u001b[33mWARNING\u001b[0m Serializing object of type dict that is 147552 bytes\n",
      "\u001b[34m\u001b[1mwandb\u001b[0m: \u001b[33mWARNING\u001b[0m Serializing object of type dict that is 147552 bytes\n"
     ]
    },
    {
     "name": "stdout",
     "output_type": "stream",
     "text": [
      "***** Train metrics *****\n",
      "  epoch                    =           8.0\n",
      "  total_flos               = 18570405054GF\n",
      "  train_loss               =        7.1339\n",
      "  train_runtime            =    7:09:00.70\n",
      "  train_samples_per_second =         9.725\n",
      "  train_steps_per_second   =         0.076\n"
     ]
    }
   ],
   "source": [
    "train_results = trainer.train()\n",
    "trainer.save_model()\n",
    "trainer.log_metrics(\"Train\", train_results.metrics)\n",
    "trainer.save_metrics(\"train\", train_results.metrics)\n",
    "trainer.save_state()"
   ]
  },
  {
   "cell_type": "code",
   "execution_count": 28,
   "id": "1ee70a44",
   "metadata": {
    "execution": {
     "iopub.execute_input": "2024-04-17T02:07:45.336940Z",
     "iopub.status.busy": "2024-04-17T02:07:45.335141Z",
     "iopub.status.idle": "2024-04-17T02:19:53.815758Z",
     "shell.execute_reply": "2024-04-17T02:19:53.814695Z"
    },
    "papermill": {
     "duration": 728.52042,
     "end_time": "2024-04-17T02:19:53.835994",
     "exception": false,
     "start_time": "2024-04-17T02:07:45.315574",
     "status": "completed"
    },
    "tags": []
   },
   "outputs": [
    {
     "data": {
      "text/html": [
       "\n",
       "    <div>\n",
       "      \n",
       "      <progress value='70' max='70' style='width:300px; height:20px; vertical-align: middle;'></progress>\n",
       "      [70/70 11:40]\n",
       "    </div>\n",
       "    "
      ],
      "text/plain": [
       "<IPython.core.display.HTML object>"
      ]
     },
     "metadata": {},
     "output_type": "display_data"
    },
    {
     "name": "stdout",
     "output_type": "stream",
     "text": [
      "***** Eval metrics *****\n",
      "  epoch                   =        8.0\n",
      "  eval_loss               =     6.9796\n",
      "  eval_map_at_100         =     0.1074\n",
      "  eval_map_at_5           =     0.0985\n",
      "  eval_map_at_50          =     0.1064\n",
      "  eval_runtime            = 0:12:08.46\n",
      "  eval_samples_per_second =     12.274\n",
      "  eval_steps_per_second   =      0.096\n",
      "  eval_topk_acc_at_10     =      0.168\n",
      "  eval_topk_acc_at_100    =     0.3367\n",
      "  eval_topk_acc_at_5      =     0.1416\n"
     ]
    }
   ],
   "source": [
    "metrics = trainer.evaluate(test_ds)\n",
    "trainer.log_metrics(\"Eval\", metrics)\n",
    "trainer.save_metrics(\"eval\", metrics)"
   ]
  },
  {
   "cell_type": "code",
   "execution_count": 29,
   "id": "c6680de6",
   "metadata": {
    "execution": {
     "iopub.execute_input": "2024-04-17T02:19:53.872587Z",
     "iopub.status.busy": "2024-04-17T02:19:53.872185Z",
     "iopub.status.idle": "2024-04-17T02:20:00.025002Z",
     "shell.execute_reply": "2024-04-17T02:20:00.024168Z"
    },
    "papermill": {
     "duration": 6.173906,
     "end_time": "2024-04-17T02:20:00.027249",
     "exception": false,
     "start_time": "2024-04-17T02:19:53.853343",
     "status": "completed"
    },
    "tags": []
   },
   "outputs": [
    {
     "name": "stderr",
     "output_type": "stream",
     "text": [
      "\u001b[34m\u001b[1mwandb\u001b[0m:                                                                                \n",
      "\u001b[34m\u001b[1mwandb\u001b[0m: \n",
      "\u001b[34m\u001b[1mwandb\u001b[0m: Run history:\n",
      "\u001b[34m\u001b[1mwandb\u001b[0m:               eval/loss █▇▇▇▇▆▆▅▅▄▄▃▃▂▂▂▁\n",
      "\u001b[34m\u001b[1mwandb\u001b[0m:         eval/map_at_100 ▁▁▁▁▁▁▂▃▃▄▄▅▆▇███\n",
      "\u001b[34m\u001b[1mwandb\u001b[0m:           eval/map_at_5 ▁▁▁▁▁▁▂▃▃▄▄▅▆▇███\n",
      "\u001b[34m\u001b[1mwandb\u001b[0m:          eval/map_at_50 ▁▁▁▁▁▁▂▃▃▄▄▅▆▇███\n",
      "\u001b[34m\u001b[1mwandb\u001b[0m:            eval/runtime ▂▁▁▂▁▁▁▁▁▁▁▁▁▁▁▁█\n",
      "\u001b[34m\u001b[1mwandb\u001b[0m: eval/samples_per_second ▃█▇▄▆▆█▇█▇▇███▇▇▁\n",
      "\u001b[34m\u001b[1mwandb\u001b[0m:   eval/steps_per_second ▃█▇▄▆▆█▇██▇███▇▇▁\n",
      "\u001b[34m\u001b[1mwandb\u001b[0m:     eval/topk_acc_at_10 ▁▁▂▂▂▃▄▃▄▄▅▆▆▇███\n",
      "\u001b[34m\u001b[1mwandb\u001b[0m:    eval/topk_acc_at_100 ▁▁▁▂▂▂▃▃▄▅▅▆▆▇▇██\n",
      "\u001b[34m\u001b[1mwandb\u001b[0m:      eval/topk_acc_at_5 ▁▁▁▁▁▂▃▃▄▅▅▆▆▇███\n",
      "\u001b[34m\u001b[1mwandb\u001b[0m:             train/epoch ▁▁▁▂▂▂▂▂▂▃▃▃▃▃▄▄▄▄▄▄▅▅▅▅▅▅▆▆▆▆▆▇▇▇▇▇▇███\n",
      "\u001b[34m\u001b[1mwandb\u001b[0m:       train/global_step ▁▁▁▂▂▂▂▂▂▃▃▃▃▃▄▄▄▄▄▄▅▅▅▅▅▅▆▆▆▆▆▇▇▇▇▇▇███\n",
      "\u001b[34m\u001b[1mwandb\u001b[0m:         train/grad_norm ▄▃▁▃▂▁▁▂▁▁▂▁▁▂▂▂▂▂▃▃▃▅▃▃▃▃▄▃▇▅▄▄▅▄█▅▆▅▇█\n",
      "\u001b[34m\u001b[1mwandb\u001b[0m:     train/learning_rate ███▇▇▇▇▇▇▆▆▆▆▆▆▅▅▅▅▅▄▄▄▄▄▄▃▃▃▃▃▂▂▂▂▂▂▁▁▁\n",
      "\u001b[34m\u001b[1mwandb\u001b[0m:              train/loss █▇▇▇▇▆▆▆▆▆▆▆▆▆▆▅▅▅▅▅▄▄▅▄▄▄▄▃▃▄▂▃▃▃▂▂▂▂▁▁\n",
      "\u001b[34m\u001b[1mwandb\u001b[0m: \n",
      "\u001b[34m\u001b[1mwandb\u001b[0m: Run summary:\n",
      "\u001b[34m\u001b[1mwandb\u001b[0m:                eval/loss 6.97959\n",
      "\u001b[34m\u001b[1mwandb\u001b[0m:          eval/map_at_100 0.10738\n",
      "\u001b[34m\u001b[1mwandb\u001b[0m:            eval/map_at_5 0.09851\n",
      "\u001b[34m\u001b[1mwandb\u001b[0m:           eval/map_at_50 0.1064\n",
      "\u001b[34m\u001b[1mwandb\u001b[0m:             eval/runtime 728.4618\n",
      "\u001b[34m\u001b[1mwandb\u001b[0m:  eval/samples_per_second 12.274\n",
      "\u001b[34m\u001b[1mwandb\u001b[0m:    eval/steps_per_second 0.096\n",
      "\u001b[34m\u001b[1mwandb\u001b[0m:      eval/topk_acc_at_10 0.16799\n",
      "\u001b[34m\u001b[1mwandb\u001b[0m:     eval/topk_acc_at_100 0.33665\n",
      "\u001b[34m\u001b[1mwandb\u001b[0m:       eval/topk_acc_at_5 0.14159\n",
      "\u001b[34m\u001b[1mwandb\u001b[0m:               total_flos 1.9939820595423805e+19\n",
      "\u001b[34m\u001b[1mwandb\u001b[0m:              train/epoch 8.0\n",
      "\u001b[34m\u001b[1mwandb\u001b[0m:        train/global_step 1960\n",
      "\u001b[34m\u001b[1mwandb\u001b[0m:          train/grad_norm 1.04663\n",
      "\u001b[34m\u001b[1mwandb\u001b[0m:      train/learning_rate 0.0\n",
      "\u001b[34m\u001b[1mwandb\u001b[0m:               train/loss 6.5188\n",
      "\u001b[34m\u001b[1mwandb\u001b[0m:               train_loss 7.13392\n",
      "\u001b[34m\u001b[1mwandb\u001b[0m:            train_runtime 25740.7037\n",
      "\u001b[34m\u001b[1mwandb\u001b[0m: train_samples_per_second 9.725\n",
      "\u001b[34m\u001b[1mwandb\u001b[0m:   train_steps_per_second 0.076\n",
      "\u001b[34m\u001b[1mwandb\u001b[0m: \n",
      "\u001b[34m\u001b[1mwandb\u001b[0m: 🚀 View run \u001b[33mvit-run-kg-fl-04\u001b[0m at: \u001b[34m\u001b[4mhttps://wandb.ai/art-av-ch-1/hotel-id-vit-v1/runs/cbhyzeym/workspace\u001b[0m\n",
      "\u001b[34m\u001b[1mwandb\u001b[0m: Synced 5 W&B file(s), 0 media file(s), 132 artifact file(s) and 0 other file(s)\n",
      "\u001b[34m\u001b[1mwandb\u001b[0m: Find logs at: \u001b[35m\u001b[1m./wandb/run-20240416_185840-cbhyzeym/logs\u001b[0m\n"
     ]
    }
   ],
   "source": [
    "wandb.finish()"
   ]
  },
  {
   "cell_type": "code",
   "execution_count": 30,
   "id": "3ab87368",
   "metadata": {
    "execution": {
     "iopub.execute_input": "2024-04-17T02:20:00.067200Z",
     "iopub.status.busy": "2024-04-17T02:20:00.066850Z",
     "iopub.status.idle": "2024-04-17T02:20:00.070911Z",
     "shell.execute_reply": "2024-04-17T02:20:00.070165Z"
    },
    "papermill": {
     "duration": 0.026248,
     "end_time": "2024-04-17T02:20:00.072899",
     "exception": false,
     "start_time": "2024-04-17T02:20:00.046651",
     "status": "completed"
    },
    "tags": []
   },
   "outputs": [],
   "source": [
    "#"
   ]
  }
 ],
 "metadata": {
  "kaggle": {
   "accelerator": "gpu",
   "dataSources": [
    {
     "databundleVersionId": 4957097,
     "sourceId": 35150,
     "sourceType": "competition"
    }
   ],
   "dockerImageVersionId": 30684,
   "isGpuEnabled": true,
   "isInternetEnabled": true,
   "language": "python",
   "sourceType": "notebook"
  },
  "kernelspec": {
   "display_name": "Python 3",
   "language": "python",
   "name": "python3"
  },
  "language_info": {
   "codemirror_mode": {
    "name": "ipython",
    "version": 3
   },
   "file_extension": ".py",
   "mimetype": "text/x-python",
   "name": "python",
   "nbconvert_exporter": "python",
   "pygments_lexer": "ipython3",
   "version": "3.10.13"
  },
  "papermill": {
   "default_parameters": {},
   "duration": 26552.203904,
   "end_time": "2024-04-17T02:20:02.872691",
   "environment_variables": {},
   "exception": null,
   "input_path": "__notebook__.ipynb",
   "output_path": "__notebook__.ipynb",
   "parameters": {},
   "start_time": "2024-04-16T18:57:30.668787",
   "version": "2.5.0"
  },
  "widgets": {
   "application/vnd.jupyter.widget-state+json": {
    "state": {
     "07bb481927d0447a92c768f99c8de390": {
      "model_module": "@jupyter-widgets/controls",
      "model_module_version": "1.5.0",
      "model_name": "ProgressStyleModel",
      "state": {
       "_model_module": "@jupyter-widgets/controls",
       "_model_module_version": "1.5.0",
       "_model_name": "ProgressStyleModel",
       "_view_count": null,
       "_view_module": "@jupyter-widgets/base",
       "_view_module_version": "1.2.0",
       "_view_name": "StyleView",
       "bar_color": null,
       "description_width": ""
      }
     },
     "0972cef9f94b4f21bab4959f03784611": {
      "model_module": "@jupyter-widgets/controls",
      "model_module_version": "1.5.0",
      "model_name": "DescriptionStyleModel",
      "state": {
       "_model_module": "@jupyter-widgets/controls",
       "_model_module_version": "1.5.0",
       "_model_name": "DescriptionStyleModel",
       "_view_count": null,
       "_view_module": "@jupyter-widgets/base",
       "_view_module_version": "1.2.0",
       "_view_name": "StyleView",
       "description_width": ""
      }
     },
     "1034142a5a25413980eca199e09ac9a1": {
      "model_module": "@jupyter-widgets/base",
      "model_module_version": "1.2.0",
      "model_name": "LayoutModel",
      "state": {
       "_model_module": "@jupyter-widgets/base",
       "_model_module_version": "1.2.0",
       "_model_name": "LayoutModel",
       "_view_count": null,
       "_view_module": "@jupyter-widgets/base",
       "_view_module_version": "1.2.0",
       "_view_name": "LayoutView",
       "align_content": null,
       "align_items": null,
       "align_self": null,
       "border": null,
       "bottom": null,
       "display": null,
       "flex": null,
       "flex_flow": null,
       "grid_area": null,
       "grid_auto_columns": null,
       "grid_auto_flow": null,
       "grid_auto_rows": null,
       "grid_column": null,
       "grid_gap": null,
       "grid_row": null,
       "grid_template_areas": null,
       "grid_template_columns": null,
       "grid_template_rows": null,
       "height": null,
       "justify_content": null,
       "justify_items": null,
       "left": null,
       "margin": null,
       "max_height": null,
       "max_width": null,
       "min_height": null,
       "min_width": null,
       "object_fit": null,
       "object_position": null,
       "order": null,
       "overflow": null,
       "overflow_x": null,
       "overflow_y": null,
       "padding": null,
       "right": null,
       "top": null,
       "visibility": null,
       "width": null
      }
     },
     "1c3d9a912c5d440b876697a1694f8c2a": {
      "model_module": "@jupyter-widgets/controls",
      "model_module_version": "1.5.0",
      "model_name": "HTMLModel",
      "state": {
       "_dom_classes": [],
       "_model_module": "@jupyter-widgets/controls",
       "_model_module_version": "1.5.0",
       "_model_name": "HTMLModel",
       "_view_count": null,
       "_view_module": "@jupyter-widgets/controls",
       "_view_module_version": "1.5.0",
       "_view_name": "HTMLView",
       "description": "",
       "description_tooltip": null,
       "layout": "IPY_MODEL_c29c014eebe344e78fda03a0430d316d",
       "placeholder": "​",
       "style": "IPY_MODEL_7903a739139f43cc9e20b6a0113db8d2",
       "value": "preprocessor_config.json: 100%"
      }
     },
     "2b9419de9ac24df699b80c49f82097f3": {
      "model_module": "@jupyter-widgets/base",
      "model_module_version": "1.2.0",
      "model_name": "LayoutModel",
      "state": {
       "_model_module": "@jupyter-widgets/base",
       "_model_module_version": "1.2.0",
       "_model_name": "LayoutModel",
       "_view_count": null,
       "_view_module": "@jupyter-widgets/base",
       "_view_module_version": "1.2.0",
       "_view_name": "LayoutView",
       "align_content": null,
       "align_items": null,
       "align_self": null,
       "border": null,
       "bottom": null,
       "display": null,
       "flex": null,
       "flex_flow": null,
       "grid_area": null,
       "grid_auto_columns": null,
       "grid_auto_flow": null,
       "grid_auto_rows": null,
       "grid_column": null,
       "grid_gap": null,
       "grid_row": null,
       "grid_template_areas": null,
       "grid_template_columns": null,
       "grid_template_rows": null,
       "height": null,
       "justify_content": null,
       "justify_items": null,
       "left": null,
       "margin": null,
       "max_height": null,
       "max_width": null,
       "min_height": null,
       "min_width": null,
       "object_fit": null,
       "object_position": null,
       "order": null,
       "overflow": null,
       "overflow_x": null,
       "overflow_y": null,
       "padding": null,
       "right": null,
       "top": null,
       "visibility": null,
       "width": null
      }
     },
     "2b95c44280af4c519e219ab3f8da20b8": {
      "model_module": "@jupyter-widgets/controls",
      "model_module_version": "1.5.0",
      "model_name": "HTMLModel",
      "state": {
       "_dom_classes": [],
       "_model_module": "@jupyter-widgets/controls",
       "_model_module_version": "1.5.0",
       "_model_name": "HTMLModel",
       "_view_count": null,
       "_view_module": "@jupyter-widgets/controls",
       "_view_module_version": "1.5.0",
       "_view_name": "HTMLView",
       "description": "",
       "description_tooltip": null,
       "layout": "IPY_MODEL_3857ad0fbc0a484cbf744d4bfb5fbe8f",
       "placeholder": "​",
       "style": "IPY_MODEL_98bd3a2634ae4feeb7c49cd40327ed02",
       "value": " 346M/346M [00:07&lt;00:00, 47.8MB/s]"
      }
     },
     "2eb87d459c6140b18fb6a18af0d10b78": {
      "model_module": "@jupyter-widgets/controls",
      "model_module_version": "1.5.0",
      "model_name": "HBoxModel",
      "state": {
       "_dom_classes": [],
       "_model_module": "@jupyter-widgets/controls",
       "_model_module_version": "1.5.0",
       "_model_name": "HBoxModel",
       "_view_count": null,
       "_view_module": "@jupyter-widgets/controls",
       "_view_module_version": "1.5.0",
       "_view_name": "HBoxView",
       "box_style": "",
       "children": [
        "IPY_MODEL_3348c1ec7ed0439a8b7151b3bebf0ddc",
        "IPY_MODEL_c415504c6a484a34a6e5f01844343444",
        "IPY_MODEL_feeb8971ae764aab921a74d60f268f20"
       ],
       "layout": "IPY_MODEL_df075b0790e04fe990ba23d8a3f8c894"
      }
     },
     "3348c1ec7ed0439a8b7151b3bebf0ddc": {
      "model_module": "@jupyter-widgets/controls",
      "model_module_version": "1.5.0",
      "model_name": "HTMLModel",
      "state": {
       "_dom_classes": [],
       "_model_module": "@jupyter-widgets/controls",
       "_model_module_version": "1.5.0",
       "_model_name": "HTMLModel",
       "_view_count": null,
       "_view_module": "@jupyter-widgets/controls",
       "_view_module_version": "1.5.0",
       "_view_name": "HTMLView",
       "description": "",
       "description_tooltip": null,
       "layout": "IPY_MODEL_2b9419de9ac24df699b80c49f82097f3",
       "placeholder": "​",
       "style": "IPY_MODEL_0972cef9f94b4f21bab4959f03784611",
       "value": "config.json: 100%"
      }
     },
     "3857ad0fbc0a484cbf744d4bfb5fbe8f": {
      "model_module": "@jupyter-widgets/base",
      "model_module_version": "1.2.0",
      "model_name": "LayoutModel",
      "state": {
       "_model_module": "@jupyter-widgets/base",
       "_model_module_version": "1.2.0",
       "_model_name": "LayoutModel",
       "_view_count": null,
       "_view_module": "@jupyter-widgets/base",
       "_view_module_version": "1.2.0",
       "_view_name": "LayoutView",
       "align_content": null,
       "align_items": null,
       "align_self": null,
       "border": null,
       "bottom": null,
       "display": null,
       "flex": null,
       "flex_flow": null,
       "grid_area": null,
       "grid_auto_columns": null,
       "grid_auto_flow": null,
       "grid_auto_rows": null,
       "grid_column": null,
       "grid_gap": null,
       "grid_row": null,
       "grid_template_areas": null,
       "grid_template_columns": null,
       "grid_template_rows": null,
       "height": null,
       "justify_content": null,
       "justify_items": null,
       "left": null,
       "margin": null,
       "max_height": null,
       "max_width": null,
       "min_height": null,
       "min_width": null,
       "object_fit": null,
       "object_position": null,
       "order": null,
       "overflow": null,
       "overflow_x": null,
       "overflow_y": null,
       "padding": null,
       "right": null,
       "top": null,
       "visibility": null,
       "width": null
      }
     },
     "3ff957083e794c80bf7676a466e4a64a": {
      "model_module": "@jupyter-widgets/controls",
      "model_module_version": "1.5.0",
      "model_name": "FloatProgressModel",
      "state": {
       "_dom_classes": [],
       "_model_module": "@jupyter-widgets/controls",
       "_model_module_version": "1.5.0",
       "_model_name": "FloatProgressModel",
       "_view_count": null,
       "_view_module": "@jupyter-widgets/controls",
       "_view_module_version": "1.5.0",
       "_view_name": "ProgressView",
       "bar_style": "success",
       "description": "",
       "description_tooltip": null,
       "layout": "IPY_MODEL_bcda5a2e27a0468386dda99316103ad5",
       "max": 345579424,
       "min": 0,
       "orientation": "horizontal",
       "style": "IPY_MODEL_59cd88fded8e47249f4513e2ccbaa145",
       "value": 345579424
      }
     },
     "4db4da9d39a04d2aaa9424a0f0aa69b5": {
      "model_module": "@jupyter-widgets/base",
      "model_module_version": "1.2.0",
      "model_name": "LayoutModel",
      "state": {
       "_model_module": "@jupyter-widgets/base",
       "_model_module_version": "1.2.0",
       "_model_name": "LayoutModel",
       "_view_count": null,
       "_view_module": "@jupyter-widgets/base",
       "_view_module_version": "1.2.0",
       "_view_name": "LayoutView",
       "align_content": null,
       "align_items": null,
       "align_self": null,
       "border": null,
       "bottom": null,
       "display": null,
       "flex": null,
       "flex_flow": null,
       "grid_area": null,
       "grid_auto_columns": null,
       "grid_auto_flow": null,
       "grid_auto_rows": null,
       "grid_column": null,
       "grid_gap": null,
       "grid_row": null,
       "grid_template_areas": null,
       "grid_template_columns": null,
       "grid_template_rows": null,
       "height": null,
       "justify_content": null,
       "justify_items": null,
       "left": null,
       "margin": null,
       "max_height": null,
       "max_width": null,
       "min_height": null,
       "min_width": null,
       "object_fit": null,
       "object_position": null,
       "order": null,
       "overflow": null,
       "overflow_x": null,
       "overflow_y": null,
       "padding": null,
       "right": null,
       "top": null,
       "visibility": null,
       "width": null
      }
     },
     "4ebaf36d625f4aaa95ca0dc4dfd6245d": {
      "model_module": "@jupyter-widgets/controls",
      "model_module_version": "1.5.0",
      "model_name": "FloatProgressModel",
      "state": {
       "_dom_classes": [],
       "_model_module": "@jupyter-widgets/controls",
       "_model_module_version": "1.5.0",
       "_model_name": "FloatProgressModel",
       "_view_count": null,
       "_view_module": "@jupyter-widgets/controls",
       "_view_module_version": "1.5.0",
       "_view_name": "ProgressView",
       "bar_style": "success",
       "description": "",
       "description_tooltip": null,
       "layout": "IPY_MODEL_98266d487b7c47359f19a3c1298bb060",
       "max": 160,
       "min": 0,
       "orientation": "horizontal",
       "style": "IPY_MODEL_cab82f099ff14a8eae73bd5b9f90fe1c",
       "value": 160
      }
     },
     "59cd88fded8e47249f4513e2ccbaa145": {
      "model_module": "@jupyter-widgets/controls",
      "model_module_version": "1.5.0",
      "model_name": "ProgressStyleModel",
      "state": {
       "_model_module": "@jupyter-widgets/controls",
       "_model_module_version": "1.5.0",
       "_model_name": "ProgressStyleModel",
       "_view_count": null,
       "_view_module": "@jupyter-widgets/base",
       "_view_module_version": "1.2.0",
       "_view_name": "StyleView",
       "bar_color": null,
       "description_width": ""
      }
     },
     "65149e84b4e74c208bf2463ceb4837d7": {
      "model_module": "@jupyter-widgets/base",
      "model_module_version": "1.2.0",
      "model_name": "LayoutModel",
      "state": {
       "_model_module": "@jupyter-widgets/base",
       "_model_module_version": "1.2.0",
       "_model_name": "LayoutModel",
       "_view_count": null,
       "_view_module": "@jupyter-widgets/base",
       "_view_module_version": "1.2.0",
       "_view_name": "LayoutView",
       "align_content": null,
       "align_items": null,
       "align_self": null,
       "border": null,
       "bottom": null,
       "display": null,
       "flex": null,
       "flex_flow": null,
       "grid_area": null,
       "grid_auto_columns": null,
       "grid_auto_flow": null,
       "grid_auto_rows": null,
       "grid_column": null,
       "grid_gap": null,
       "grid_row": null,
       "grid_template_areas": null,
       "grid_template_columns": null,
       "grid_template_rows": null,
       "height": null,
       "justify_content": null,
       "justify_items": null,
       "left": null,
       "margin": null,
       "max_height": null,
       "max_width": null,
       "min_height": null,
       "min_width": null,
       "object_fit": null,
       "object_position": null,
       "order": null,
       "overflow": null,
       "overflow_x": null,
       "overflow_y": null,
       "padding": null,
       "right": null,
       "top": null,
       "visibility": null,
       "width": null
      }
     },
     "7341cbcb8cd1407e9205e7db1c48e495": {
      "model_module": "@jupyter-widgets/controls",
      "model_module_version": "1.5.0",
      "model_name": "DescriptionStyleModel",
      "state": {
       "_model_module": "@jupyter-widgets/controls",
       "_model_module_version": "1.5.0",
       "_model_name": "DescriptionStyleModel",
       "_view_count": null,
       "_view_module": "@jupyter-widgets/base",
       "_view_module_version": "1.2.0",
       "_view_name": "StyleView",
       "description_width": ""
      }
     },
     "7903a739139f43cc9e20b6a0113db8d2": {
      "model_module": "@jupyter-widgets/controls",
      "model_module_version": "1.5.0",
      "model_name": "DescriptionStyleModel",
      "state": {
       "_model_module": "@jupyter-widgets/controls",
       "_model_module_version": "1.5.0",
       "_model_name": "DescriptionStyleModel",
       "_view_count": null,
       "_view_module": "@jupyter-widgets/base",
       "_view_module_version": "1.2.0",
       "_view_name": "StyleView",
       "description_width": ""
      }
     },
     "8c6a699ef4af4177992ec435568f74f0": {
      "model_module": "@jupyter-widgets/controls",
      "model_module_version": "1.5.0",
      "model_name": "DescriptionStyleModel",
      "state": {
       "_model_module": "@jupyter-widgets/controls",
       "_model_module_version": "1.5.0",
       "_model_name": "DescriptionStyleModel",
       "_view_count": null,
       "_view_module": "@jupyter-widgets/base",
       "_view_module_version": "1.2.0",
       "_view_name": "StyleView",
       "description_width": ""
      }
     },
     "8c7d566dcd1c45969935de8b14b5ce01": {
      "model_module": "@jupyter-widgets/controls",
      "model_module_version": "1.5.0",
      "model_name": "HBoxModel",
      "state": {
       "_dom_classes": [],
       "_model_module": "@jupyter-widgets/controls",
       "_model_module_version": "1.5.0",
       "_model_name": "HBoxModel",
       "_view_count": null,
       "_view_module": "@jupyter-widgets/controls",
       "_view_module_version": "1.5.0",
       "_view_name": "HBoxView",
       "box_style": "",
       "children": [
        "IPY_MODEL_1c3d9a912c5d440b876697a1694f8c2a",
        "IPY_MODEL_4ebaf36d625f4aaa95ca0dc4dfd6245d",
        "IPY_MODEL_e8beed1c1eb0427ca2f1021213f8018d"
       ],
       "layout": "IPY_MODEL_1034142a5a25413980eca199e09ac9a1"
      }
     },
     "98266d487b7c47359f19a3c1298bb060": {
      "model_module": "@jupyter-widgets/base",
      "model_module_version": "1.2.0",
      "model_name": "LayoutModel",
      "state": {
       "_model_module": "@jupyter-widgets/base",
       "_model_module_version": "1.2.0",
       "_model_name": "LayoutModel",
       "_view_count": null,
       "_view_module": "@jupyter-widgets/base",
       "_view_module_version": "1.2.0",
       "_view_name": "LayoutView",
       "align_content": null,
       "align_items": null,
       "align_self": null,
       "border": null,
       "bottom": null,
       "display": null,
       "flex": null,
       "flex_flow": null,
       "grid_area": null,
       "grid_auto_columns": null,
       "grid_auto_flow": null,
       "grid_auto_rows": null,
       "grid_column": null,
       "grid_gap": null,
       "grid_row": null,
       "grid_template_areas": null,
       "grid_template_columns": null,
       "grid_template_rows": null,
       "height": null,
       "justify_content": null,
       "justify_items": null,
       "left": null,
       "margin": null,
       "max_height": null,
       "max_width": null,
       "min_height": null,
       "min_width": null,
       "object_fit": null,
       "object_position": null,
       "order": null,
       "overflow": null,
       "overflow_x": null,
       "overflow_y": null,
       "padding": null,
       "right": null,
       "top": null,
       "visibility": null,
       "width": null
      }
     },
     "98bd3a2634ae4feeb7c49cd40327ed02": {
      "model_module": "@jupyter-widgets/controls",
      "model_module_version": "1.5.0",
      "model_name": "DescriptionStyleModel",
      "state": {
       "_model_module": "@jupyter-widgets/controls",
       "_model_module_version": "1.5.0",
       "_model_name": "DescriptionStyleModel",
       "_view_count": null,
       "_view_module": "@jupyter-widgets/base",
       "_view_module_version": "1.2.0",
       "_view_name": "StyleView",
       "description_width": ""
      }
     },
     "b73e92178c1344f0b019efe7e4495b59": {
      "model_module": "@jupyter-widgets/controls",
      "model_module_version": "1.5.0",
      "model_name": "HTMLModel",
      "state": {
       "_dom_classes": [],
       "_model_module": "@jupyter-widgets/controls",
       "_model_module_version": "1.5.0",
       "_model_name": "HTMLModel",
       "_view_count": null,
       "_view_module": "@jupyter-widgets/controls",
       "_view_module_version": "1.5.0",
       "_view_name": "HTMLView",
       "description": "",
       "description_tooltip": null,
       "layout": "IPY_MODEL_65149e84b4e74c208bf2463ceb4837d7",
       "placeholder": "​",
       "style": "IPY_MODEL_e8b56e148cc843959cd32b28f879ab5b",
       "value": "model.safetensors: 100%"
      }
     },
     "b8c67de606fa4f01a656c695bd869efc": {
      "model_module": "@jupyter-widgets/base",
      "model_module_version": "1.2.0",
      "model_name": "LayoutModel",
      "state": {
       "_model_module": "@jupyter-widgets/base",
       "_model_module_version": "1.2.0",
       "_model_name": "LayoutModel",
       "_view_count": null,
       "_view_module": "@jupyter-widgets/base",
       "_view_module_version": "1.2.0",
       "_view_name": "LayoutView",
       "align_content": null,
       "align_items": null,
       "align_self": null,
       "border": null,
       "bottom": null,
       "display": null,
       "flex": null,
       "flex_flow": null,
       "grid_area": null,
       "grid_auto_columns": null,
       "grid_auto_flow": null,
       "grid_auto_rows": null,
       "grid_column": null,
       "grid_gap": null,
       "grid_row": null,
       "grid_template_areas": null,
       "grid_template_columns": null,
       "grid_template_rows": null,
       "height": null,
       "justify_content": null,
       "justify_items": null,
       "left": null,
       "margin": null,
       "max_height": null,
       "max_width": null,
       "min_height": null,
       "min_width": null,
       "object_fit": null,
       "object_position": null,
       "order": null,
       "overflow": null,
       "overflow_x": null,
       "overflow_y": null,
       "padding": null,
       "right": null,
       "top": null,
       "visibility": null,
       "width": null
      }
     },
     "bcda5a2e27a0468386dda99316103ad5": {
      "model_module": "@jupyter-widgets/base",
      "model_module_version": "1.2.0",
      "model_name": "LayoutModel",
      "state": {
       "_model_module": "@jupyter-widgets/base",
       "_model_module_version": "1.2.0",
       "_model_name": "LayoutModel",
       "_view_count": null,
       "_view_module": "@jupyter-widgets/base",
       "_view_module_version": "1.2.0",
       "_view_name": "LayoutView",
       "align_content": null,
       "align_items": null,
       "align_self": null,
       "border": null,
       "bottom": null,
       "display": null,
       "flex": null,
       "flex_flow": null,
       "grid_area": null,
       "grid_auto_columns": null,
       "grid_auto_flow": null,
       "grid_auto_rows": null,
       "grid_column": null,
       "grid_gap": null,
       "grid_row": null,
       "grid_template_areas": null,
       "grid_template_columns": null,
       "grid_template_rows": null,
       "height": null,
       "justify_content": null,
       "justify_items": null,
       "left": null,
       "margin": null,
       "max_height": null,
       "max_width": null,
       "min_height": null,
       "min_width": null,
       "object_fit": null,
       "object_position": null,
       "order": null,
       "overflow": null,
       "overflow_x": null,
       "overflow_y": null,
       "padding": null,
       "right": null,
       "top": null,
       "visibility": null,
       "width": null
      }
     },
     "c29c014eebe344e78fda03a0430d316d": {
      "model_module": "@jupyter-widgets/base",
      "model_module_version": "1.2.0",
      "model_name": "LayoutModel",
      "state": {
       "_model_module": "@jupyter-widgets/base",
       "_model_module_version": "1.2.0",
       "_model_name": "LayoutModel",
       "_view_count": null,
       "_view_module": "@jupyter-widgets/base",
       "_view_module_version": "1.2.0",
       "_view_name": "LayoutView",
       "align_content": null,
       "align_items": null,
       "align_self": null,
       "border": null,
       "bottom": null,
       "display": null,
       "flex": null,
       "flex_flow": null,
       "grid_area": null,
       "grid_auto_columns": null,
       "grid_auto_flow": null,
       "grid_auto_rows": null,
       "grid_column": null,
       "grid_gap": null,
       "grid_row": null,
       "grid_template_areas": null,
       "grid_template_columns": null,
       "grid_template_rows": null,
       "height": null,
       "justify_content": null,
       "justify_items": null,
       "left": null,
       "margin": null,
       "max_height": null,
       "max_width": null,
       "min_height": null,
       "min_width": null,
       "object_fit": null,
       "object_position": null,
       "order": null,
       "overflow": null,
       "overflow_x": null,
       "overflow_y": null,
       "padding": null,
       "right": null,
       "top": null,
       "visibility": null,
       "width": null
      }
     },
     "c415504c6a484a34a6e5f01844343444": {
      "model_module": "@jupyter-widgets/controls",
      "model_module_version": "1.5.0",
      "model_name": "FloatProgressModel",
      "state": {
       "_dom_classes": [],
       "_model_module": "@jupyter-widgets/controls",
       "_model_module_version": "1.5.0",
       "_model_name": "FloatProgressModel",
       "_view_count": null,
       "_view_module": "@jupyter-widgets/controls",
       "_view_module_version": "1.5.0",
       "_view_name": "ProgressView",
       "bar_style": "success",
       "description": "",
       "description_tooltip": null,
       "layout": "IPY_MODEL_dc3330650f124e4b921fc276986c4a78",
       "max": 502,
       "min": 0,
       "orientation": "horizontal",
       "style": "IPY_MODEL_07bb481927d0447a92c768f99c8de390",
       "value": 502
      }
     },
     "cab82f099ff14a8eae73bd5b9f90fe1c": {
      "model_module": "@jupyter-widgets/controls",
      "model_module_version": "1.5.0",
      "model_name": "ProgressStyleModel",
      "state": {
       "_model_module": "@jupyter-widgets/controls",
       "_model_module_version": "1.5.0",
       "_model_name": "ProgressStyleModel",
       "_view_count": null,
       "_view_module": "@jupyter-widgets/base",
       "_view_module_version": "1.2.0",
       "_view_name": "StyleView",
       "bar_color": null,
       "description_width": ""
      }
     },
     "dc3330650f124e4b921fc276986c4a78": {
      "model_module": "@jupyter-widgets/base",
      "model_module_version": "1.2.0",
      "model_name": "LayoutModel",
      "state": {
       "_model_module": "@jupyter-widgets/base",
       "_model_module_version": "1.2.0",
       "_model_name": "LayoutModel",
       "_view_count": null,
       "_view_module": "@jupyter-widgets/base",
       "_view_module_version": "1.2.0",
       "_view_name": "LayoutView",
       "align_content": null,
       "align_items": null,
       "align_self": null,
       "border": null,
       "bottom": null,
       "display": null,
       "flex": null,
       "flex_flow": null,
       "grid_area": null,
       "grid_auto_columns": null,
       "grid_auto_flow": null,
       "grid_auto_rows": null,
       "grid_column": null,
       "grid_gap": null,
       "grid_row": null,
       "grid_template_areas": null,
       "grid_template_columns": null,
       "grid_template_rows": null,
       "height": null,
       "justify_content": null,
       "justify_items": null,
       "left": null,
       "margin": null,
       "max_height": null,
       "max_width": null,
       "min_height": null,
       "min_width": null,
       "object_fit": null,
       "object_position": null,
       "order": null,
       "overflow": null,
       "overflow_x": null,
       "overflow_y": null,
       "padding": null,
       "right": null,
       "top": null,
       "visibility": null,
       "width": null
      }
     },
     "df075b0790e04fe990ba23d8a3f8c894": {
      "model_module": "@jupyter-widgets/base",
      "model_module_version": "1.2.0",
      "model_name": "LayoutModel",
      "state": {
       "_model_module": "@jupyter-widgets/base",
       "_model_module_version": "1.2.0",
       "_model_name": "LayoutModel",
       "_view_count": null,
       "_view_module": "@jupyter-widgets/base",
       "_view_module_version": "1.2.0",
       "_view_name": "LayoutView",
       "align_content": null,
       "align_items": null,
       "align_self": null,
       "border": null,
       "bottom": null,
       "display": null,
       "flex": null,
       "flex_flow": null,
       "grid_area": null,
       "grid_auto_columns": null,
       "grid_auto_flow": null,
       "grid_auto_rows": null,
       "grid_column": null,
       "grid_gap": null,
       "grid_row": null,
       "grid_template_areas": null,
       "grid_template_columns": null,
       "grid_template_rows": null,
       "height": null,
       "justify_content": null,
       "justify_items": null,
       "left": null,
       "margin": null,
       "max_height": null,
       "max_width": null,
       "min_height": null,
       "min_width": null,
       "object_fit": null,
       "object_position": null,
       "order": null,
       "overflow": null,
       "overflow_x": null,
       "overflow_y": null,
       "padding": null,
       "right": null,
       "top": null,
       "visibility": null,
       "width": null
      }
     },
     "e8b56e148cc843959cd32b28f879ab5b": {
      "model_module": "@jupyter-widgets/controls",
      "model_module_version": "1.5.0",
      "model_name": "DescriptionStyleModel",
      "state": {
       "_model_module": "@jupyter-widgets/controls",
       "_model_module_version": "1.5.0",
       "_model_name": "DescriptionStyleModel",
       "_view_count": null,
       "_view_module": "@jupyter-widgets/base",
       "_view_module_version": "1.2.0",
       "_view_name": "StyleView",
       "description_width": ""
      }
     },
     "e8beed1c1eb0427ca2f1021213f8018d": {
      "model_module": "@jupyter-widgets/controls",
      "model_module_version": "1.5.0",
      "model_name": "HTMLModel",
      "state": {
       "_dom_classes": [],
       "_model_module": "@jupyter-widgets/controls",
       "_model_module_version": "1.5.0",
       "_model_name": "HTMLModel",
       "_view_count": null,
       "_view_module": "@jupyter-widgets/controls",
       "_view_module_version": "1.5.0",
       "_view_name": "HTMLView",
       "description": "",
       "description_tooltip": null,
       "layout": "IPY_MODEL_4db4da9d39a04d2aaa9424a0f0aa69b5",
       "placeholder": "​",
       "style": "IPY_MODEL_8c6a699ef4af4177992ec435568f74f0",
       "value": " 160/160 [00:00&lt;00:00, 13.0kB/s]"
      }
     },
     "e9350ce2fb3548aa86ec415662208f9a": {
      "model_module": "@jupyter-widgets/base",
      "model_module_version": "1.2.0",
      "model_name": "LayoutModel",
      "state": {
       "_model_module": "@jupyter-widgets/base",
       "_model_module_version": "1.2.0",
       "_model_name": "LayoutModel",
       "_view_count": null,
       "_view_module": "@jupyter-widgets/base",
       "_view_module_version": "1.2.0",
       "_view_name": "LayoutView",
       "align_content": null,
       "align_items": null,
       "align_self": null,
       "border": null,
       "bottom": null,
       "display": null,
       "flex": null,
       "flex_flow": null,
       "grid_area": null,
       "grid_auto_columns": null,
       "grid_auto_flow": null,
       "grid_auto_rows": null,
       "grid_column": null,
       "grid_gap": null,
       "grid_row": null,
       "grid_template_areas": null,
       "grid_template_columns": null,
       "grid_template_rows": null,
       "height": null,
       "justify_content": null,
       "justify_items": null,
       "left": null,
       "margin": null,
       "max_height": null,
       "max_width": null,
       "min_height": null,
       "min_width": null,
       "object_fit": null,
       "object_position": null,
       "order": null,
       "overflow": null,
       "overflow_x": null,
       "overflow_y": null,
       "padding": null,
       "right": null,
       "top": null,
       "visibility": null,
       "width": null
      }
     },
     "fa75b5bbbbbb47168f4344cb60d817c8": {
      "model_module": "@jupyter-widgets/controls",
      "model_module_version": "1.5.0",
      "model_name": "HBoxModel",
      "state": {
       "_dom_classes": [],
       "_model_module": "@jupyter-widgets/controls",
       "_model_module_version": "1.5.0",
       "_model_name": "HBoxModel",
       "_view_count": null,
       "_view_module": "@jupyter-widgets/controls",
       "_view_module_version": "1.5.0",
       "_view_name": "HBoxView",
       "box_style": "",
       "children": [
        "IPY_MODEL_b73e92178c1344f0b019efe7e4495b59",
        "IPY_MODEL_3ff957083e794c80bf7676a466e4a64a",
        "IPY_MODEL_2b95c44280af4c519e219ab3f8da20b8"
       ],
       "layout": "IPY_MODEL_b8c67de606fa4f01a656c695bd869efc"
      }
     },
     "feeb8971ae764aab921a74d60f268f20": {
      "model_module": "@jupyter-widgets/controls",
      "model_module_version": "1.5.0",
      "model_name": "HTMLModel",
      "state": {
       "_dom_classes": [],
       "_model_module": "@jupyter-widgets/controls",
       "_model_module_version": "1.5.0",
       "_model_name": "HTMLModel",
       "_view_count": null,
       "_view_module": "@jupyter-widgets/controls",
       "_view_module_version": "1.5.0",
       "_view_name": "HTMLView",
       "description": "",
       "description_tooltip": null,
       "layout": "IPY_MODEL_e9350ce2fb3548aa86ec415662208f9a",
       "placeholder": "​",
       "style": "IPY_MODEL_7341cbcb8cd1407e9205e7db1c48e495",
       "value": " 502/502 [00:00&lt;00:00, 26.5kB/s]"
      }
     }
    },
    "version_major": 2,
    "version_minor": 0
   }
  }
 },
 "nbformat": 4,
 "nbformat_minor": 5
}
